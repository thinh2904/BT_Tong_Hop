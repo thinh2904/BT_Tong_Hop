{
  "nbformat": 4,
  "nbformat_minor": 0,
  "metadata": {
    "colab": {
      "name": "BT04.ipynb",
      "provenance": []
    },
    "kernelspec": {
      "name": "python3",
      "display_name": "Python 3"
    },
    "language_info": {
      "name": "python"
    }
  },
  "cells": [
    {
      "cell_type": "code",
      "metadata": {
        "colab": {
          "base_uri": "https://localhost:8080/"
        },
        "id": "DVCGNpqL0usq",
        "outputId": "2978903b-ff4e-45b9-8432-a4c08789bc9d"
      },
      "source": [
        "n = int(input('Ti le n ='))\n",
        " \n",
        " \n",
        "def isSafe(x, y, board):\n",
        "    if(x >= 0 and y >= 0 and x < n and y < n and board[x][y] == -1):\n",
        "        return True\n",
        "    return False\n",
        " \n",
        " \n",
        "def printSolution(n, board):\n",
        "    for i in range(n):\n",
        "        for j in range(n):\n",
        "            print(board[i][j], end=' ')\n",
        "        print()\n",
        " \n",
        " \n",
        "def solveKT(n):\n",
        "    board = [[-1 for i in range(n)]for i in range(n)]\n",
        "    move_x = [2, 1, -1, -2, -2, -1, 1, 2]\n",
        "    move_y = [1, 2, 2, 1, -1, -2, -2, -1]\n",
        "    board[0][0] = 0\n",
        "    pos = 1\n",
        "    if(not solveKTUtil(n, board, 0, 0, move_x, move_y, pos)):\n",
        "        print(\"Solution does not exist\")\n",
        "    else:\n",
        "        printSolution(n, board)\n",
        " \n",
        " \n",
        "def solveKTUtil(n, board, curr_x, curr_y, move_x, move_y, pos):\n",
        "    if(pos == n**2):\n",
        "        return True\n",
        "    for i in range(8):\n",
        "        new_x = curr_x + move_x[i]\n",
        "        new_y = curr_y + move_y[i]\n",
        "        if(isSafe(new_x, new_y, board)):\n",
        "            board[new_x][new_y] = pos\n",
        "            if(solveKTUtil(n, board, new_x, new_y, move_x, move_y, pos+1)):\n",
        "                return True\n",
        "            board[new_x][new_y] = -1\n",
        "    return False\n",
        " \n",
        " \n",
        "solveKT(n)"
      ],
      "execution_count": 2,
      "outputs": [
        {
          "output_type": "stream",
          "text": [
            "Ti le n =5\n",
            "0 5 14 9 20 \n",
            "13 8 19 4 15 \n",
            "18 1 6 21 10 \n",
            "7 12 23 16 3 \n",
            "24 17 2 11 22 \n"
          ],
          "name": "stdout"
        }
      ]
    }
  ]
}