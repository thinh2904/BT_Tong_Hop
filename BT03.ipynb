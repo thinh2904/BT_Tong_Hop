{
  "nbformat": 4,
  "nbformat_minor": 0,
  "metadata": {
    "colab": {
      "name": "BT03.ipynb",
      "provenance": []
    },
    "kernelspec": {
      "name": "python3",
      "display_name": "Python 3"
    },
    "language_info": {
      "name": "python"
    }
  },
  "cells": [
    {
      "cell_type": "code",
      "metadata": {
        "id": "DVCGNpqL0usq",
        "outputId": "7cd24f6b-8bfd-4e6f-8711-375fa9f41ff6",
        "colab": {
          "base_uri": "https://localhost:8080/"
        }
      },
      "source": [
        "n = int(input('Nhap n ='))\n",
        "\n",
        "\n",
        "def giai_thua(n):\n",
        "    if n == 0:\n",
        "        return 1\n",
        "    return n * giai_thua(n - 1)\n",
        "\n",
        "\n",
        "print(giai_thua(n))"
      ],
      "execution_count": 1,
      "outputs": [
        {
          "output_type": "stream",
          "text": [
            "Nhap n =5\n",
            "120\n"
          ],
          "name": "stdout"
        }
      ]
    }
  ]
}