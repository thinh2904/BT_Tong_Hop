{
  "nbformat": 4,
  "nbformat_minor": 0,
  "metadata": {
    "colab": {
      "provenance": [],
      "authorship_tag": "ABX9TyNidFFoe3fbF1Hp+8Jkv/gQ",
      "include_colab_link": true
    },
    "kernelspec": {
      "name": "python3",
      "display_name": "Python 3"
    },
    "language_info": {
      "name": "python"
    }
  },
  "cells": [
    {
      "cell_type": "markdown",
      "metadata": {
        "id": "view-in-github",
        "colab_type": "text"
      },
      "source": [
        "<a href=\"https://colab.research.google.com/github/thinh2904/BT_Tong_Hop/blob/main/Day7_Pytorch.ipynb\" target=\"_parent\"><img src=\"https://colab.research.google.com/assets/colab-badge.svg\" alt=\"Open In Colab\"/></a>"
      ]
    },
    {
      "cell_type": "markdown",
      "source": [
        "##1. Viết mô hình Linear Regession bằng Pytorch"
      ],
      "metadata": {
        "id": "mxxnv4_pFliZ"
      }
    },
    {
      "cell_type": "code",
      "execution_count": 1,
      "metadata": {
        "colab": {
          "base_uri": "https://localhost:8080/",
          "height": 604
        },
        "id": "n85ftTEJFeAL",
        "outputId": "eade849d-5e5b-4dfc-d555-b11cad79732d"
      },
      "outputs": [
        {
          "output_type": "stream",
          "name": "stdout",
          "text": [
            "Epoch [100/1000], Loss: 0.1815\n",
            "Epoch [200/1000], Loss: 0.1293\n",
            "Epoch [300/1000], Loss: 0.0993\n",
            "Epoch [400/1000], Loss: 0.0768\n",
            "Epoch [500/1000], Loss: 0.0599\n",
            "Epoch [600/1000], Loss: 0.0471\n",
            "Epoch [700/1000], Loss: 0.0375\n",
            "Epoch [800/1000], Loss: 0.0302\n",
            "Epoch [900/1000], Loss: 0.0247\n",
            "Epoch [1000/1000], Loss: 0.0206\n"
          ]
        },
        {
          "output_type": "display_data",
          "data": {
            "text/plain": [
              "<Figure size 640x480 with 1 Axes>"
            ],
            "image/png": "[encoded data removed]"
          },
          "metadata": {}
        }
      ],
      "source": [
        "import torch\n",
        "import torch.nn as nn\n",
        "import torch.optim as optim\n",
        "import numpy as np\n",
        "import matplotlib.pyplot as plt\n",
        "\n",
        "# Dữ liệu tự tạo\n",
        "np.random.seed(42)\n",
        "X = np.random.rand(100, 1)\n",
        "y = 2 * X.squeeze() + 1 + np.random.randn(100) * 0.1  # Giả sử mối quan hệ là y = 2x + 1 + noise\n",
        "\n",
        "# Chuyển dữ liệu thành tensor\n",
        "X_tensor = torch.tensor(X, dtype=torch.float32)\n",
        "y_tensor = torch.tensor(y, dtype=torch.float32)\n",
        "\n",
        "# Định nghĩa mô hình Linear Regression\n",
        "class LinearRegression(nn.Module):\n",
        "    def __init__(self):\n",
        "        super(LinearRegression, self).__init__()\n",
        "        self.linear = nn.Linear(1, 1)  # Một đầu vào và một đầu ra\n",
        "\n",
        "    def forward(self, x):\n",
        "        return self.linear(x)\n",
        "\n",
        "# Khởi tạo mô hình và bộ tối ưu hóa\n",
        "model = LinearRegression()\n",
        "criterion = nn.MSELoss()  # Hàm loss: Mean Squared Error\n",
        "optimizer = optim.SGD(model.parameters(), lr=0.01)  # Sử dụng Stochastic Gradient Descent với learning rate là 0.01\n",
        "\n",
        "# Huấn luyện mô hình\n",
        "num_epochs = 1000\n",
        "for epoch in range(num_epochs):\n",
        "    # Forward pass\n",
        "    outputs = model(X_tensor)\n",
        "    loss = criterion(outputs.squeeze(), y_tensor)  # Tính loss\n",
        "\n",
        "    # Backward pass và cập nhật trọng số\n",
        "    optimizer.zero_grad()\n",
        "    loss.backward()\n",
        "    optimizer.step()\n",
        "\n",
        "    if (epoch+1) % 100 == 0:\n",
        "        print(f'Epoch [{epoch+1}/{num_epochs}], Loss: {loss.item():.4f}')\n",
        "\n",
        "# Đồ thị dữ liệu và đường thẳng dự đoán\n",
        "predicted = model(X_tensor).detach().numpy()\n",
        "plt.scatter(X, y, label='Original data')\n",
        "plt.plot(X, predicted, 'r-', label='Fitted line')\n",
        "plt.legend()\n",
        "plt.show()"
      ]
    },
    {
      "cell_type": "code",
      "source": [
        "# Dữ liệu mới cần dự đoán\n",
        "new_data = np.array([[0.6]])  # Ví dụ, dữ liệu mới có giá trị là 0.6\n",
        "\n",
        "# Chuyển dữ liệu mới thành tensor\n",
        "new_data_tensor = torch.tensor(new_data, dtype=torch.float32)\n",
        "\n",
        "# Dự đoán đầu ra cho dữ liệu mới\n",
        "predicted_value = model(new_data_tensor).item()\n",
        "\n",
        "print(f'Giá trị dự đoán cho dữ liệu mới là: {predicted_value:.4f}')"
      ],
      "metadata": {
        "colab": {
          "base_uri": "https://localhost:8080/"
        },
        "id": "Cu6j99G_GFWJ",
        "outputId": "fc52cca8-2c11-4090-fef0-5a6b511d75a2"
      },
      "execution_count": 2,
      "outputs": [
        {
          "output_type": "stream",
          "name": "stdout",
          "text": [
            "Giá trị dự đoán cho dữ liệu mới là: 2.1586\n"
          ]
        }
      ]
    },
    {
      "cell_type": "markdown",
      "source": [
        "##2. Viết mô hình Logistic Regession bằng Pytorch"
      ],
      "metadata": {
        "id": "Hvgq-qH5GR_I"
      }
    },
    {
      "cell_type": "code",
      "source": [
        "import torch\n",
        "import torch.nn as nn\n",
        "import torch.optim as optim\n",
        "import numpy as np\n",
        "import matplotlib.pyplot as plt\n",
        "\n",
        "# Tạo dữ liệu mô phỏng\n",
        "np.random.seed(0)\n",
        "torch.manual_seed(0)\n",
        "num_samples = 100\n",
        "study_hours = np.random.uniform(0, 10, num_samples)\n",
        "sleep_hours = np.random.uniform(0, 10, num_samples)\n",
        "# Giả sử nếu tổng số giờ học và số giờ ngủ vượt quá một ngưỡng nào đó, học sinh sẽ đậu kỳ thi\n",
        "pass_threshold = 12\n",
        "passed = ((study_hours + sleep_hours) > pass_threshold).astype(float)\n",
        "\n",
        "# Chuyển dữ liệu thành Tensor\n",
        "X = np.column_stack((study_hours, sleep_hours))\n",
        "X_tensor = torch.tensor(X, dtype=torch.float32)\n",
        "y_tensor = torch.tensor(passed, dtype=torch.float32).view(-1, 1)\n",
        "\n",
        "# Vẽ biểu đồ dữ liệu\n",
        "plt.scatter(X[:,0], X[:,1], c=passed, cmap=plt.cm.coolwarm)\n",
        "plt.xlabel('Study Hours')\n",
        "plt.ylabel('Sleep Hours')\n",
        "plt.title('Data Visualization')\n",
        "plt.colorbar()\n",
        "plt.show()\n",
        "\n",
        "# Định nghĩa mô hình Logistic Regression\n",
        "class LogisticRegression(nn.Module):\n",
        "    def __init__(self, input_dim):\n",
        "        super(LogisticRegression, self).__init__()\n",
        "        self.linear = nn.Linear(input_dim, 1)\n",
        "        self.sigmoid = nn.Sigmoid()\n",
        "\n",
        "    def forward(self, x):\n",
        "        out = self.linear(x)\n",
        "        out = self.sigmoid(out)\n",
        "        return out\n",
        "\n",
        "# Khởi tạo mô hình\n",
        "input_dim = X.shape[1]\n",
        "model = LogisticRegression(input_dim)\n",
        "\n",
        "# Định nghĩa hàm mất mát và bộ tối ưu\n",
        "criterion = nn.BCELoss()\n",
        "optimizer = optim.SGD(model.parameters(), lr=0.01)\n",
        "\n",
        "# Huấn luyện mô hình\n",
        "num_epochs = 1000\n",
        "for epoch in range(num_epochs):\n",
        "    # Forward pass\n",
        "    outputs = model(X_tensor)\n",
        "    loss = criterion(outputs, y_tensor)\n",
        "\n",
        "    # Backward pass và cập nhật trọng số\n",
        "    optimizer.zero_grad()\n",
        "    loss.backward()\n",
        "    optimizer.step()\n",
        "\n",
        "    if (epoch+1) % 100 == 0:\n",
        "        print('Epoch [{}/{}], Loss: {:.4f}'.format(epoch+1, num_epochs, loss.item()))\n",
        "\n",
        "# Đánh giá mô hình\n",
        "with torch.no_grad():\n",
        "    predicted = model(X_tensor).round()\n",
        "    accuracy = (predicted == y_tensor).sum().item() / y_tensor.size(0)\n",
        "    print('Accuracy: {:.2f}%'.format(accuracy * 100))"
      ],
      "metadata": {
        "colab": {
          "base_uri": "https://localhost:8080/",
          "height": 663
        },
        "id": "KZfFKUs3GVSh",
        "outputId": "2fafcff7-3ce9-47bf-e20d-f2f9179a674e"
      },
      "execution_count": 5,
      "outputs": [
        {
          "output_type": "display_data",
          "data": {
            "text/plain": [
              "<Figure size 640x480 with 2 Axes>"
            ],
            "image/png": "[encoded data removed]"
          },
          "metadata": {}
        },
        {
          "output_type": "stream",
          "name": "stdout",
          "text": [
            "Epoch [100/1000], Loss: 0.5945\n",
            "Epoch [200/1000], Loss: 0.5794\n",
            "Epoch [300/1000], Loss: 0.5669\n",
            "Epoch [400/1000], Loss: 0.5551\n",
            "Epoch [500/1000], Loss: 0.5440\n",
            "Epoch [600/1000], Loss: 0.5335\n",
            "Epoch [700/1000], Loss: 0.5236\n",
            "Epoch [800/1000], Loss: 0.5142\n",
            "Epoch [900/1000], Loss: 0.5052\n",
            "Epoch [1000/1000], Loss: 0.4968\n",
            "Accuracy: 91.00%\n"
          ]
        }
      ]
    },
    {
      "cell_type": "code",
      "source": [
        "# Đầu vào của một ví dụ: số giờ học và số giờ ngủ\n",
        "example_input = torch.tensor([[8.0, 7.0]], dtype=torch.float32)\n",
        "\n",
        "# Sử dụng mô hình để dự đoán\n",
        "with torch.no_grad():\n",
        "    predicted_probability = model(example_input)\n",
        "    predicted_label = predicted_probability.round()\n",
        "\n",
        "print(\"Predicted Probability:\", predicted_probability.item())\n",
        "print(\"Predicted Label (Passed/Failed):\", predicted_label.item())"
      ],
      "metadata": {
        "colab": {
          "base_uri": "https://localhost:8080/"
        },
        "id": "372hyNYNH7xa",
        "outputId": "f458acd4-51f1-421d-e609-559fa2f621ba"
      },
      "execution_count": 6,
      "outputs": [
        {
          "output_type": "stream",
          "name": "stdout",
          "text": [
            "Predicted Probability: 0.6674640774726868\n",
            "Predicted Label (Passed/Failed): 1.0\n"
          ]
        }
      ]
    },
    {
      "cell_type": "markdown",
      "source": [
        "##3. Viết chương trình xử lý dữ liệu sau với Pytorch(bảng giá trị cho trong file đính kèm)\n",
        "\n"
      ],
      "metadata": {
        "id": "vjjDnNNCIF-i"
      }
    },
    {
      "cell_type": "code",
      "source": [
        "import numpy as np"
      ],
      "metadata": {
        "id": "T3zcsydvT4t1"
      },
      "execution_count": 37,
      "outputs": []
    },
    {
      "cell_type": "code",
      "source": [
        "x1 = [0,0,1,1]\n",
        "x2 = [0,1,0,1]\n",
        "y = np.array([0,1,1,0])"
      ],
      "metadata": {
        "id": "o2TFLhHoIFtC"
      },
      "execution_count": 56,
      "outputs": []
    },
    {
      "cell_type": "code",
      "source": [
        "x1_ = []\n",
        "x2_ = []\n",
        "\n",
        "for item in x1:\n",
        "  x1_.append(1 - item)\n",
        "\n",
        "for item in x2:\n",
        "  x2_.append(1 - item)\n",
        "\n",
        "print(x1_)\n",
        "print(x2_)"
      ],
      "metadata": {
        "colab": {
          "base_uri": "https://localhost:8080/"
        },
        "id": "1-zGuwS-Jc24",
        "outputId": "54cc816c-21a1-4dfb-df58-02bce9576866"
      },
      "execution_count": 41,
      "outputs": [
        {
          "output_type": "stream",
          "name": "stdout",
          "text": [
            "[1, 1, 0, 0]\n",
            "[1, 0, 1, 0]\n"
          ]
        }
      ]
    },
    {
      "cell_type": "code",
      "source": [
        "z1 = [x1[i] * x2_[i] for i in range(len(x1))]\n",
        "print(z1)\n",
        "z2 = [x1_[i] * x2[i] for i in range(len(x1))]\n",
        "print(z2)"
      ],
      "metadata": {
        "colab": {
          "base_uri": "https://localhost:8080/"
        },
        "id": "j7LPjkxBKGKC",
        "outputId": "95ecf12c-96a8-49cf-94ee-33fdf51651dc"
      },
      "execution_count": 42,
      "outputs": [
        {
          "output_type": "stream",
          "name": "stdout",
          "text": [
            "[0, 0, 1, 0]\n",
            "[0, 1, 0, 0]\n"
          ]
        }
      ]
    },
    {
      "cell_type": "code",
      "source": [
        "w11 = w21 = 1.0\n",
        "theta = 1.0\n",
        "eta = 1.5"
      ],
      "metadata": {
        "id": "Br2VjVi5Mdlk"
      },
      "execution_count": 43,
      "outputs": []
    },
    {
      "cell_type": "code",
      "source": [
        "done = False\n",
        "while not done:\n",
        "  i = 0\n",
        "  y_z1 = w11*x1[i]+w21*x2_[i]\n",
        "  if y_z1 >= theta:\n",
        "    y_z1hat = 1.0\n",
        "  else:\n",
        "    y_z1hat = 0.0\n",
        "  if y_z1hat == z1[i]:\n",
        "    i+=1\n",
        "  else:\n",
        "    w11 = w11 - eta*(y_z1hat - z1[i])*x1[i]\n",
        "    w21 = w21 - eta*(y_z1hat - z1[i])*x2_[i]\n",
        "    break"
      ],
      "metadata": {
        "id": "I9gTQocpQC_D"
      },
      "execution_count": 44,
      "outputs": []
    },
    {
      "cell_type": "code",
      "source": [
        "w11"
      ],
      "metadata": {
        "colab": {
          "base_uri": "https://localhost:8080/"
        },
        "id": "URkZ2Yc9SaBV",
        "outputId": "b69f4c2c-509a-4e2f-ca2e-c19290a757c1"
      },
      "execution_count": 45,
      "outputs": [
        {
          "output_type": "execute_result",
          "data": {
            "text/plain": [
              "1.0"
            ]
          },
          "metadata": {},
          "execution_count": 45
        }
      ]
    },
    {
      "cell_type": "code",
      "source": [
        "w21"
      ],
      "metadata": {
        "colab": {
          "base_uri": "https://localhost:8080/"
        },
        "id": "hZ73UkuJSbat",
        "outputId": "417d2829-9e6a-40b9-b192-6f82a0c12294"
      },
      "execution_count": 46,
      "outputs": [
        {
          "output_type": "execute_result",
          "data": {
            "text/plain": [
              "-0.5"
            ]
          },
          "metadata": {},
          "execution_count": 46
        }
      ]
    },
    {
      "cell_type": "code",
      "source": [
        "w12 = w22 = 1.0\n",
        "done = False\n",
        "while not done:\n",
        "  i = 0\n",
        "  y_z2 = w21*x1_[i]+w22*x2[i]\n",
        "  if y_z2 >= theta:\n",
        "    y_z2hat = 1.0\n",
        "  else:\n",
        "    y_z2hat = 0.0\n",
        "  if y_z2hat == z2[i]:\n",
        "    i+=1\n",
        "  else:\n",
        "    w11 = w11 - eta*(y_z2hat - z2[i])*x1_[i]\n",
        "    w21 = w21 - eta*(y_z2hat - z2[i])*x2[i]\n",
        "    break"
      ],
      "metadata": {
        "id": "7JknLHFjSoy1"
      },
      "execution_count": 60,
      "outputs": []
    },
    {
      "cell_type": "code",
      "source": [
        "w12"
      ],
      "metadata": {
        "colab": {
          "base_uri": "https://localhost:8080/"
        },
        "id": "Jw8FcZpWTE_d",
        "outputId": "755a6df5-9971-425b-a2c4-4df3be60fe7b"
      },
      "execution_count": 61,
      "outputs": [
        {
          "output_type": "execute_result",
          "data": {
            "text/plain": [
              "1.0"
            ]
          },
          "metadata": {},
          "execution_count": 61
        }
      ]
    },
    {
      "cell_type": "code",
      "source": [
        "w22"
      ],
      "metadata": {
        "colab": {
          "base_uri": "https://localhost:8080/"
        },
        "id": "we3KWrVATGsF",
        "outputId": "c3b2faf7-df25-4b43-afe3-83e2ee6c117c"
      },
      "execution_count": 62,
      "outputs": [
        {
          "output_type": "execute_result",
          "data": {
            "text/plain": [
              "1.0"
            ]
          },
          "metadata": {},
          "execution_count": 62
        }
      ]
    },
    {
      "cell_type": "code",
      "source": [
        "w31 = w32 = 1\n",
        "done = False\n",
        "while not done:\n",
        "  i = 0\n",
        "  y_z = w31*z1[i]+w32*z2[i]\n",
        "  if y_z >= theta:\n",
        "    y_zhat = 1.0\n",
        "  else:\n",
        "    y_zhat = 0.0\n",
        "  if y_zhat == y[i]:\n",
        "    i+=1\n",
        "  else:\n",
        "    w31 = w31 - eta*(y_zhat - y[i])*z1[i]\n",
        "    w32 = w32 - eta*(y_zhat - y[i])*z2[i]\n",
        "    break"
      ],
      "metadata": {
        "id": "sLKWejKeXASH"
      },
      "execution_count": null,
      "outputs": []
    }
  ]
}