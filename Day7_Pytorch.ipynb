{
  "nbformat": 4,
  "nbformat_minor": 0,
  "metadata": {
    "colab": {
      "provenance": [],
      "authorship_tag": "ABX9TyOvvs98hxzplgMDYRKGlVR7",
      "include_colab_link": true
    },
    "kernelspec": {
      "name": "python3",
      "display_name": "Python 3"
    },
    "language_info": {
      "name": "python"
    }
  },
  "cells": [
    {
      "cell_type": "markdown",
      "metadata": {
        "id": "view-in-github",
        "colab_type": "text"
      },
      "source": [
        "<a href=\"https://colab.research.google.com/github/thinh2904/BT_Tong_Hop/blob/main/Day7_Pytorch.ipynb\" target=\"_parent\"><img src=\"https://colab.research.google.com/assets/colab-badge.svg\" alt=\"Open In Colab\"/></a>"
      ]
    },
    {
      "cell_type": "markdown",
      "source": [
        "##1. Viết mô hình Linear Regession bằng Pytorch"
      ],
      "metadata": {
        "id": "mxxnv4_pFliZ"
      }
    },
    {
      "cell_type": "code",
      "execution_count": 1,
      "metadata": {
        "colab": {
          "base_uri": "https://localhost:8080/",
          "height": 612
        },
        "id": "n85ftTEJFeAL",
        "outputId": "9deac861-1d5d-42b2-ba38-c2ef60d97c45"
      },
      "outputs": [
        {
          "output_type": "stream",
          "name": "stdout",
          "text": [
            "Epoch [100/1000], Loss: 0.2159\n",
            "Epoch [200/1000], Loss: 0.1180\n",
            "Epoch [300/1000], Loss: 0.0906\n",
            "Epoch [400/1000], Loss: 0.0702\n",
            "Epoch [500/1000], Loss: 0.0549\n",
            "Epoch [600/1000], Loss: 0.0433\n",
            "Epoch [700/1000], Loss: 0.0346\n",
            "Epoch [800/1000], Loss: 0.0281\n",
            "Epoch [900/1000], Loss: 0.0231\n",
            "Epoch [1000/1000], Loss: 0.0194\n"
          ]
        },
        {
          "output_type": "display_data",
          "data": {
            "text/plain": [
              "<Figure size 640x480 with 1 Axes>"
            ],
            "image/png": "[encoded data removed]"
          },
          "metadata": {}
        }
      ],
      "source": [
        "import torch\n",
        "import torch.nn as nn\n",
        "import torch.optim as optim\n",
        "import numpy as np\n",
        "import matplotlib.pyplot as plt\n",
        "\n",
        "# Dữ liệu tự tạo\n",
        "np.random.seed(42)\n",
        "X = np.random.rand(100, 1)\n",
        "y = 2 * X.squeeze() + 1 + np.random.randn(100) * 0.1  # Giả sử mối quan hệ là y = 2x + 1 + noise\n",
        "\n",
        "# Chuyển dữ liệu thành tensor\n",
        "X_tensor = torch.tensor(X, dtype=torch.float32)\n",
        "y_tensor = torch.tensor(y, dtype=torch.float32)\n",
        "\n",
        "# Định nghĩa mô hình Linear Regression\n",
        "class LinearRegression(nn.Module):\n",
        "    def __init__(self):\n",
        "        super(LinearRegression, self).__init__()\n",
        "        self.linear = nn.Linear(1, 1)  # Một đầu vào và một đầu ra\n",
        "\n",
        "    def forward(self, x):\n",
        "        return self.linear(x)\n",
        "\n",
        "# Khởi tạo mô hình và bộ tối ưu hóa\n",
        "model = LinearRegression()\n",
        "criterion = nn.MSELoss()  # Hàm loss: Mean Squared Error\n",
        "optimizer = optim.SGD(model.parameters(), lr=0.01)  # Sử dụng Stochastic Gradient Descent với learning rate là 0.01\n",
        "\n",
        "# Huấn luyện mô hình\n",
        "num_epochs = 1000\n",
        "for epoch in range(num_epochs):\n",
        "    # Forward pass\n",
        "    outputs = model(X_tensor)\n",
        "    loss = criterion(outputs.squeeze(), y_tensor)  # Tính loss\n",
        "\n",
        "    # Backward pass và cập nhật trọng số\n",
        "    optimizer.zero_grad()\n",
        "    loss.backward()\n",
        "    optimizer.step()\n",
        "\n",
        "    if (epoch+1) % 100 == 0:\n",
        "        print(f'Epoch [{epoch+1}/{num_epochs}], Loss: {loss.item():.4f}')\n",
        "\n",
        "# Đồ thị dữ liệu và đường thẳng dự đoán\n",
        "predicted = model(X_tensor).detach().numpy()\n",
        "plt.scatter(X, y, label='Original data')\n",
        "plt.plot(X, predicted, 'r-', label='Fitted line')\n",
        "plt.legend()\n",
        "plt.show()"
      ]
    },
    {
      "cell_type": "code",
      "source": [
        "# Dữ liệu mới cần dự đoán\n",
        "new_data = np.array([[0.6]])  # Ví dụ, dữ liệu mới có giá trị là 0.6\n",
        "\n",
        "# Chuyển dữ liệu mới thành tensor\n",
        "new_data_tensor = torch.tensor(new_data, dtype=torch.float32)\n",
        "\n",
        "# Dự đoán đầu ra cho dữ liệu mới\n",
        "predicted_value = model(new_data_tensor).item()\n",
        "\n",
        "print(f'Giá trị dự đoán cho dữ liệu mới là: {predicted_value:.4f}')"
      ],
      "metadata": {
        "colab": {
          "base_uri": "https://localhost:8080/"
        },
        "id": "Cu6j99G_GFWJ",
        "outputId": "4c731915-8bd5-46a6-983a-ef0ee5377b48"
      },
      "execution_count": 2,
      "outputs": [
        {
          "output_type": "stream",
          "name": "stdout",
          "text": [
            "Giá trị dự đoán cho dữ liệu mới là: 2.1604\n"
          ]
        }
      ]
    },
    {
      "cell_type": "markdown",
      "source": [
        "##2. Viết mô hình Logistic Regession bằng Pytorch"
      ],
      "metadata": {
        "id": "Hvgq-qH5GR_I"
      }
    },
    {
      "cell_type": "code",
      "source": [
        "import torch\n",
        "import torch.nn as nn\n",
        "import torch.optim as optim\n",
        "import numpy as np\n",
        "import matplotlib.pyplot as plt\n",
        "\n",
        "# Tạo dữ liệu mô phỏng\n",
        "np.random.seed(0)\n",
        "torch.manual_seed(0)\n",
        "num_samples = 100\n",
        "study_hours = np.random.uniform(0, 10, num_samples)\n",
        "sleep_hours = np.random.uniform(0, 10, num_samples)\n",
        "# Giả sử nếu tổng số giờ học và số giờ ngủ vượt quá một ngưỡng nào đó, học sinh sẽ đậu kỳ thi\n",
        "pass_threshold = 12\n",
        "passed = ((study_hours + sleep_hours) > pass_threshold).astype(float)\n",
        "\n",
        "# Chuyển dữ liệu thành Tensor\n",
        "X = np.column_stack((study_hours, sleep_hours))\n",
        "X_tensor = torch.tensor(X, dtype=torch.float32)\n",
        "y_tensor = torch.tensor(passed, dtype=torch.float32).view(-1, 1)\n",
        "\n",
        "# Vẽ biểu đồ dữ liệu\n",
        "plt.scatter(X[:,0], X[:,1], c=passed, cmap=plt.cm.coolwarm)\n",
        "plt.xlabel('Study Hours')\n",
        "plt.ylabel('Sleep Hours')\n",
        "plt.title('Data Visualization')\n",
        "plt.colorbar()\n",
        "plt.show()\n",
        "\n",
        "# Định nghĩa mô hình Logistic Regression\n",
        "class LogisticRegression(nn.Module):\n",
        "    def __init__(self, input_dim):\n",
        "        super(LogisticRegression, self).__init__()\n",
        "        self.linear = nn.Linear(input_dim, 1)\n",
        "        self.sigmoid = nn.Sigmoid()\n",
        "\n",
        "    def forward(self, x):\n",
        "        out = self.linear(x)\n",
        "        out = self.sigmoid(out)\n",
        "        return out\n",
        "\n",
        "# Khởi tạo mô hình\n",
        "input_dim = X.shape[1]\n",
        "model = LogisticRegression(input_dim)\n",
        "\n",
        "# Định nghĩa hàm mất mát và bộ tối ưu\n",
        "criterion = nn.BCELoss()\n",
        "optimizer = optim.SGD(model.parameters(), lr=0.01)\n",
        "\n",
        "# Huấn luyện mô hình\n",
        "num_epochs = 1000\n",
        "for epoch in range(num_epochs):\n",
        "    # Forward pass\n",
        "    outputs = model(X_tensor)\n",
        "    loss = criterion(outputs, y_tensor)\n",
        "\n",
        "    # Backward pass và cập nhật trọng số\n",
        "    optimizer.zero_grad()\n",
        "    loss.backward()\n",
        "    optimizer.step()\n",
        "\n",
        "    if (epoch+1) % 100 == 0:\n",
        "        print('Epoch [{}/{}], Loss: {:.4f}'.format(epoch+1, num_epochs, loss.item()))\n",
        "\n",
        "# Đánh giá mô hình\n",
        "with torch.no_grad():\n",
        "    predicted = model(X_tensor).round()\n",
        "    accuracy = (predicted == y_tensor).sum().item() / y_tensor.size(0)\n",
        "    print('Accuracy: {:.2f}%'.format(accuracy * 100))"
      ],
      "metadata": {
        "colab": {
          "base_uri": "https://localhost:8080/",
          "height": 672
        },
        "id": "KZfFKUs3GVSh",
        "outputId": "f9f55c42-c6e9-4ad8-f29c-5f2a18e6389c"
      },
      "execution_count": 3,
      "outputs": [
        {
          "output_type": "display_data",
          "data": {
            "text/plain": [
              "<Figure size 640x480 with 2 Axes>"
            ],
            "image/png": "[encoded data removed]"
          },
          "metadata": {}
        },
        {
          "output_type": "stream",
          "name": "stdout",
          "text": [
            "Epoch [100/1000], Loss: 0.5945\n",
            "Epoch [200/1000], Loss: 0.5794\n",
            "Epoch [300/1000], Loss: 0.5669\n",
            "Epoch [400/1000], Loss: 0.5551\n",
            "Epoch [500/1000], Loss: 0.5440\n",
            "Epoch [600/1000], Loss: 0.5335\n",
            "Epoch [700/1000], Loss: 0.5236\n",
            "Epoch [800/1000], Loss: 0.5142\n",
            "Epoch [900/1000], Loss: 0.5052\n",
            "Epoch [1000/1000], Loss: 0.4968\n",
            "Accuracy: 91.00%\n"
          ]
        }
      ]
    },
    {
      "cell_type": "code",
      "source": [
        "# Đầu vào của một ví dụ: số giờ học và số giờ ngủ\n",
        "example_input = torch.tensor([[8.0, 7.0]], dtype=torch.float32)\n",
        "\n",
        "# Sử dụng mô hình để dự đoán\n",
        "with torch.no_grad():\n",
        "    predicted_probability = model(example_input)\n",
        "    predicted_label = predicted_probability.round()\n",
        "\n",
        "print(\"Predicted Probability:\", predicted_probability.item())\n",
        "print(\"Predicted Label (Passed/Failed):\", predicted_label.item())"
      ],
      "metadata": {
        "colab": {
          "base_uri": "https://localhost:8080/"
        },
        "id": "372hyNYNH7xa",
        "outputId": "e29990c2-8878-4d1e-ef6e-325338dcc879"
      },
      "execution_count": 4,
      "outputs": [
        {
          "output_type": "stream",
          "name": "stdout",
          "text": [
            "Predicted Probability: 0.6674640774726868\n",
            "Predicted Label (Passed/Failed): 1.0\n"
          ]
        }
      ]
    },
    {
      "cell_type": "markdown",
      "source": [
        "##3. Viết chương trình xử lý dữ liệu sau với Pytorch(bảng giá trị cho trong file đính kèm)\n",
        "\n"
      ],
      "metadata": {
        "id": "vjjDnNNCIF-i"
      }
    },
    {
      "cell_type": "code",
      "source": [
        "import numpy as np"
      ],
      "metadata": {
        "id": "T3zcsydvT4t1"
      },
      "execution_count": 5,
      "outputs": []
    },
    {
      "cell_type": "code",
      "source": [
        "x1 = [0,0,1,1]\n",
        "x2 = [0,1,0,1]\n",
        "y = [0,1,1,0]"
      ],
      "metadata": {
        "id": "o2TFLhHoIFtC"
      },
      "execution_count": 6,
      "outputs": []
    },
    {
      "cell_type": "code",
      "source": [
        "x1_ = []\n",
        "x2_ = []\n",
        "\n",
        "for item in x1:\n",
        "  x1_.append(1 - item)\n",
        "\n",
        "for item in x2:\n",
        "  x2_.append(1 - item)\n",
        "\n",
        "print(x1_)\n",
        "print(x2_)"
      ],
      "metadata": {
        "colab": {
          "base_uri": "https://localhost:8080/"
        },
        "id": "1-zGuwS-Jc24",
        "outputId": "b780b5df-a8c3-47ba-90e1-8af1216290d5"
      },
      "execution_count": 7,
      "outputs": [
        {
          "output_type": "stream",
          "name": "stdout",
          "text": [
            "[1, 1, 0, 0]\n",
            "[1, 0, 1, 0]\n"
          ]
        }
      ]
    },
    {
      "cell_type": "code",
      "source": [
        "z1 = [x1[i] * x2_[i] for i in range(len(x1))]\n",
        "print(z1)\n",
        "z2 = [x1_[i] * x2[i] for i in range(len(x1))]\n",
        "print(z2)"
      ],
      "metadata": {
        "colab": {
          "base_uri": "https://localhost:8080/"
        },
        "id": "j7LPjkxBKGKC",
        "outputId": "b950bf82-6824-46e0-d34b-9fd314d23695"
      },
      "execution_count": 8,
      "outputs": [
        {
          "output_type": "stream",
          "name": "stdout",
          "text": [
            "[0, 0, 1, 0]\n",
            "[0, 1, 0, 0]\n"
          ]
        }
      ]
    },
    {
      "cell_type": "code",
      "source": [
        "theta = 1.0\n",
        "eta = 1.5"
      ],
      "metadata": {
        "id": "Br2VjVi5Mdlk"
      },
      "execution_count": 9,
      "outputs": []
    },
    {
      "cell_type": "code",
      "source": [
        "def update(w1, w2, x1, x2, y):\n",
        "    i = 0\n",
        "    while i < len(x1):\n",
        "        y_hat = w1 * x1[i] + w2 * x2[i]\n",
        "        if y_hat >= theta:\n",
        "            y_hat = 1.0\n",
        "        else:\n",
        "            y_hat = 0.0\n",
        "        if y_hat == y[i]:\n",
        "            i += 1\n",
        "        else:\n",
        "            w1 = w1 - eta * (y_hat - y[i]) * x1[i]\n",
        "            w2 = w2 - eta * (y_hat - y[i]) * x2[i]\n",
        "            break\n",
        "    return w1, w2"
      ],
      "metadata": {
        "id": "z8Ns7ZVpHr2E"
      },
      "execution_count": 10,
      "outputs": []
    },
    {
      "cell_type": "code",
      "source": [
        "w11 = w21 = 1.0\n",
        "w11, w21 = update(w11, w21, x1, x2_, z1)\n",
        "print('w11 =',w11)\n",
        "print('w21 =',w21)"
      ],
      "metadata": {
        "colab": {
          "base_uri": "https://localhost:8080/"
        },
        "id": "x-YqYoZYBrnK",
        "outputId": "e46fd38e-c8db-4fc9-a7fd-dd3f28e7ce10"
      },
      "execution_count": 14,
      "outputs": [
        {
          "output_type": "stream",
          "name": "stdout",
          "text": [
            "w11 = 1.0\n",
            "w21 = -0.5\n"
          ]
        }
      ]
    },
    {
      "cell_type": "code",
      "source": [
        "w12 = w22 = 1.0\n",
        "w12, w22 = update(w12, w22, x1_, x2, z2)\n",
        "print('w12 =',w12)\n",
        "print('w22 =',w22)"
      ],
      "metadata": {
        "colab": {
          "base_uri": "https://localhost:8080/"
        },
        "id": "595REv_uB4iL",
        "outputId": "3578a5a4-9089-4ce4-fbef-30343abad82a"
      },
      "execution_count": 15,
      "outputs": [
        {
          "output_type": "stream",
          "name": "stdout",
          "text": [
            "w12 = -0.5\n",
            "w22 = 1.0\n"
          ]
        }
      ]
    },
    {
      "cell_type": "code",
      "source": [
        "w31 = w32 = 1.0\n",
        "w31, w32 = update(w31, w32, z1, z2, y)\n",
        "print('w31 =',w31)\n",
        "print('w32 =',w32)"
      ],
      "metadata": {
        "id": "sLKWejKeXASH",
        "colab": {
          "base_uri": "https://localhost:8080/"
        },
        "outputId": "85a9630f-d623-468d-ac40-f7b615d9033b"
      },
      "execution_count": 16,
      "outputs": [
        {
          "output_type": "stream",
          "name": "stdout",
          "text": [
            "w31 = 1.0\n",
            "w32 = 1.0\n"
          ]
        }
      ]
    }
  ]
}