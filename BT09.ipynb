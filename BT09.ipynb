{
  "nbformat": 4,
  "nbformat_minor": 0,
  "metadata": {
    "colab": {
      "name": "BT09.ipynb",
      "provenance": []
    },
    "kernelspec": {
      "name": "python3",
      "display_name": "Python 3"
    },
    "language_info": {
      "name": "python"
    }
  },
  "cells": [
    {
      "cell_type": "code",
      "metadata": {
        "colab": {
          "base_uri": "https://localhost:8080/"
        },
        "id": "MK8srfir9iBb",
        "outputId": "0277ae4f-8947-47df-8793-8a707c7c762e"
      },
      "source": [
        "class Queue:\n",
        "\n",
        "\tdef __init__(self):\n",
        "\t\tself.items = []\n",
        "\n",
        "\tdef isEmpty(self):\n",
        "\t\treturn self.items == []\n",
        "\n",
        "\tdef pop(self):\n",
        "\t\treturn self.items.pop(0)\n",
        "\n",
        "\tdef size(self):\n",
        "\t\treturn len(self.items)\n",
        "\n",
        "\tdef peek(self):\n",
        "\t\treturn self.items[ len(self.items) - 1 ]\n",
        "\n",
        "\tdef push(self, item):\n",
        "\t\tself.items.append(item)\n",
        "\n",
        "if __name__ == \"__main__\":\n",
        "\tq = Queue()\n",
        "\tprint (\"Is empty: \" + str(q.isEmpty()))\n",
        "\tq.push(1)\n",
        "\tq.push(2)\n",
        "\tq.push(3)\n",
        "\tprint (\"List: \" + str(q.items))\n",
        "\n",
        "\tprint (\"Pop item at position 0: \" + str(q.pop()))\n",
        "\tprint (\"List: \" + str(q.items))\n",
        "\n",
        "\tprint (\"Peek of queue: \" + str(q.peek()))\n",
        "\tprint (\"Size: \" + str(q.size()))"
      ],
      "execution_count": 10,
      "outputs": [
        {
          "output_type": "stream",
          "text": [
            "Is empty: True\n",
            "List: [1, 2, 3]\n",
            "Pop item at position 0: 1\n",
            "List: [2, 3]\n",
            "Peek of queue: 3\n",
            "Size: 2\n"
          ],
          "name": "stdout"
        }
      ]
    }
  ]
}