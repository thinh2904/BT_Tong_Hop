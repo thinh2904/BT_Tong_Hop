{
  "nbformat": 4,
  "nbformat_minor": 0,
  "metadata": {
    "colab": {
      "provenance": [],
      "authorship_tag": "ABX9TyOcaj4UMuwa/lhteaVGAv7p",
      "include_colab_link": true
    },
    "kernelspec": {
      "name": "python3",
      "display_name": "Python 3"
    },
    "language_info": {
      "name": "python"
    }
  },
  "cells": [
    {
      "cell_type": "markdown",
      "metadata": {
        "id": "view-in-github",
        "colab_type": "text"
      },
      "source": [
        "<a href=\"https://colab.research.google.com/github/thinh2904/BT_Tong_Hop/blob/main/ThucHanh3.ipynb\" target=\"_parent\"><img src=\"https://colab.research.google.com/assets/colab-badge.svg\" alt=\"Open In Colab\"/></a>"
      ]
    },
    {
      "cell_type": "code",
      "source": [
        "import random"
      ],
      "metadata": {
        "id": "z4Vx6hsb8ONa"
      },
      "execution_count": 37,
      "outputs": []
    },
    {
      "cell_type": "code",
      "source": [
        "for i in range(10):\n",
        "  N = [random.randint(0, 1) for _ in range(4)]\n",
        "  print('input:',N)\n",
        "  for j in range(len(N)-1):\n",
        "    if sum(N) == len(N):\n",
        "      print('win')\n",
        "      break\n",
        "    position = random.randint(0, len(N) - 1)\n",
        "    print(\"Vị trí ngẫu nhiên:\", position)\n",
        "    if N[position] == 1:\n",
        "      print('lose')\n",
        "      break\n",
        "    if N[position] == 0:\n",
        "      N[position] = 1\n",
        "      print('N new: ',N)\n",
        "    if sum(N) == len(N):\n",
        "      print('win')\n",
        "      break"
      ],
      "metadata": {
        "colab": {
          "base_uri": "https://localhost:8080/"
        },
        "id": "0igNCult4_30",
        "outputId": "77837a1b-1c60-41be-b886-2e28012b2614"
      },
      "execution_count": 67,
      "outputs": [
        {
          "output_type": "stream",
          "name": "stdout",
          "text": [
            "input: [0, 1, 1, 1]\n",
            "Vị trí ngẫu nhiên: 0\n",
            "N new:  [1, 1, 1, 1]\n",
            "win\n",
            "input: [1, 1, 1, 0]\n",
            "Vị trí ngẫu nhiên: 1\n",
            "lose\n",
            "input: [1, 0, 1, 1]\n",
            "Vị trí ngẫu nhiên: 0\n",
            "lose\n",
            "input: [0, 0, 0, 0]\n",
            "Vị trí ngẫu nhiên: 0\n",
            "N new:  [1, 0, 0, 0]\n",
            "Vị trí ngẫu nhiên: 0\n",
            "lose\n",
            "input: [1, 0, 1, 1]\n",
            "Vị trí ngẫu nhiên: 0\n",
            "lose\n",
            "input: [0, 0, 0, 0]\n",
            "Vị trí ngẫu nhiên: 1\n",
            "N new:  [0, 1, 0, 0]\n",
            "Vị trí ngẫu nhiên: 3\n",
            "N new:  [0, 1, 0, 1]\n",
            "Vị trí ngẫu nhiên: 0\n",
            "N new:  [1, 1, 0, 1]\n",
            "input: [0, 0, 0, 0]\n",
            "Vị trí ngẫu nhiên: 0\n",
            "N new:  [1, 0, 0, 0]\n",
            "Vị trí ngẫu nhiên: 0\n",
            "lose\n",
            "input: [1, 0, 0, 0]\n",
            "Vị trí ngẫu nhiên: 1\n",
            "N new:  [1, 1, 0, 0]\n",
            "Vị trí ngẫu nhiên: 3\n",
            "N new:  [1, 1, 0, 1]\n",
            "Vị trí ngẫu nhiên: 2\n",
            "N new:  [1, 1, 1, 1]\n",
            "win\n",
            "input: [0, 0, 1, 1]\n",
            "Vị trí ngẫu nhiên: 1\n",
            "N new:  [0, 1, 1, 1]\n",
            "Vị trí ngẫu nhiên: 3\n",
            "lose\n",
            "input: [0, 1, 0, 1]\n",
            "Vị trí ngẫu nhiên: 0\n",
            "N new:  [1, 1, 0, 1]\n",
            "Vị trí ngẫu nhiên: 1\n",
            "lose\n"
          ]
        }
      ]
    },
    {
      "cell_type": "code",
      "source": [
        "for i in range(10):\n",
        "  N = [random.randint(0, 1) for _ in range(10)]\n",
        "  print('input:',N)\n",
        "  vt = []\n",
        "  a = 0\n",
        "  for j in N:\n",
        "    a+=1;\n",
        "    if j == 0:\n",
        "      vt.append(a)\n",
        "  print('vị trí nên chọn:',vt)"
      ],
      "metadata": {
        "colab": {
          "base_uri": "https://localhost:8080/"
        },
        "id": "gcbuGwaY4Rcp",
        "outputId": "d4a0a889-631a-4a57-ab63-b51047bf9429"
      },
      "execution_count": 29,
      "outputs": [
        {
          "output_type": "stream",
          "name": "stdout",
          "text": [
            "input: [0, 0, 0, 1, 0, 0, 1, 0, 1, 0]\n",
            "vị trí nên chọn: [1, 2, 3, 5, 6, 8, 10]\n",
            "input: [0, 0, 1, 1, 0, 1, 0, 0, 0, 0]\n",
            "vị trí nên chọn: [1, 2, 5, 7, 8, 9, 10]\n",
            "input: [0, 0, 0, 0, 0, 1, 1, 0, 1, 0]\n",
            "vị trí nên chọn: [1, 2, 3, 4, 5, 8, 10]\n",
            "input: [1, 1, 1, 0, 1, 1, 0, 0, 1, 1]\n",
            "vị trí nên chọn: [4, 7, 8]\n",
            "input: [1, 1, 0, 0, 0, 0, 1, 1, 0, 0]\n",
            "vị trí nên chọn: [3, 4, 5, 6, 9, 10]\n",
            "input: [0, 1, 0, 0, 1, 1, 0, 1, 0, 0]\n",
            "vị trí nên chọn: [1, 3, 4, 7, 9, 10]\n",
            "input: [0, 1, 1, 0, 1, 0, 0, 1, 0, 1]\n",
            "vị trí nên chọn: [1, 4, 6, 7, 9]\n",
            "input: [0, 0, 1, 0, 0, 0, 0, 1, 0, 0]\n",
            "vị trí nên chọn: [1, 2, 4, 5, 6, 7, 9, 10]\n",
            "input: [0, 0, 0, 0, 1, 0, 1, 0, 1, 0]\n",
            "vị trí nên chọn: [1, 2, 3, 4, 6, 8, 10]\n",
            "input: [1, 1, 1, 1, 0, 0, 0, 0, 1, 0]\n",
            "vị trí nên chọn: [5, 6, 7, 8, 10]\n"
          ]
        }
      ]
    },
    {
      "cell_type": "code",
      "source": [
        "N = [random.randint(0, 1) for _ in range(10)]\n",
        "print('input:',N)\n",
        "vt = []\n",
        "a = 0\n",
        "for j in N:\n",
        "  a+=1;\n",
        "  if j == 0:\n",
        "    vt.append(a)\n",
        "for value in vt:\n",
        "  if sum(N) == len(N):\n",
        "      print('win')\n",
        "      break\n",
        "  print(\"Vị trí nên chọn:\", value)\n",
        "  if N[value-1] == 0:\n",
        "    N[value-1] = 1\n",
        "    print('N new: ',N)\n",
        "  else:\n",
        "    print('lose')\n",
        "  if sum(N) == len(N):\n",
        "      print('win')\n",
        "      break"
      ],
      "metadata": {
        "colab": {
          "base_uri": "https://localhost:8080/"
        },
        "id": "TBpvh3iH9U5p",
        "outputId": "c5c40177-16aa-4957-ef55-6537b9315af5"
      },
      "execution_count": 73,
      "outputs": [
        {
          "output_type": "stream",
          "name": "stdout",
          "text": [
            "input: [1, 1, 0, 0, 0, 0, 1, 0, 0, 1]\n",
            "Vị trí nên chọn: 3\n",
            "N new:  [1, 1, 1, 0, 0, 0, 1, 0, 0, 1]\n",
            "Vị trí nên chọn: 4\n",
            "N new:  [1, 1, 1, 1, 0, 0, 1, 0, 0, 1]\n",
            "Vị trí nên chọn: 5\n",
            "N new:  [1, 1, 1, 1, 1, 0, 1, 0, 0, 1]\n",
            "Vị trí nên chọn: 6\n",
            "N new:  [1, 1, 1, 1, 1, 1, 1, 0, 0, 1]\n",
            "Vị trí nên chọn: 8\n",
            "N new:  [1, 1, 1, 1, 1, 1, 1, 1, 0, 1]\n",
            "Vị trí nên chọn: 9\n",
            "N new:  [1, 1, 1, 1, 1, 1, 1, 1, 1, 1]\n",
            "win\n"
          ]
        }
      ]
    }
  ]
}