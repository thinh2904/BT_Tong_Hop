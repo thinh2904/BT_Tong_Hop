{
  "nbformat": 4,
  "nbformat_minor": 0,
  "metadata": {
    "colab": {
      "provenance": [],
      "include_colab_link": true
    },
    "kernelspec": {
      "name": "python3",
      "display_name": "Python 3"
    },
    "language_info": {
      "name": "python"
    }
  },
  "cells": [
    {
      "cell_type": "markdown",
      "metadata": {
        "id": "view-in-github",
        "colab_type": "text"
      },
      "source": [
        "<a href=\"https://colab.research.google.com/github/thinh2904/BT_Tong_Hop/blob/main/day5_RL.ipynb\" target=\"_parent\"><img src=\"https://colab.research.google.com/assets/colab-badge.svg\" alt=\"Open In Colab\"/></a>"
      ]
    },
    {
      "cell_type": "code",
      "execution_count": 41,
      "metadata": {
        "id": "A3bztnWlI2KN"
      },
      "outputs": [],
      "source": [
        "import numpy as np"
      ]
    },
    {
      "cell_type": "code",
      "source": [
        "V = np.zeros((3,4))"
      ],
      "metadata": {
        "id": "lJHImUn5J_FL"
      },
      "execution_count": 42,
      "outputs": []
    },
    {
      "cell_type": "code",
      "source": [
        "V[1,3]=-1\n",
        "V[0,3] = 1\n",
        "V[1,1] = -100\n",
        "gamma = 0.9"
      ],
      "metadata": {
        "id": "_lJngav-KOJa"
      },
      "execution_count": 43,
      "outputs": []
    },
    {
      "cell_type": "code",
      "source": [
        "V"
      ],
      "metadata": {
        "id": "KhqJzcaJKPIa",
        "colab": {
          "base_uri": "https://localhost:8080/"
        },
        "outputId": "1f32282c-8d6e-48f9-ee8b-473cd5925731"
      },
      "execution_count": 44,
      "outputs": [
        {
          "output_type": "execute_result",
          "data": {
            "text/plain": [
              "array([[   0.,    0.,    0.,    1.],\n",
              "       [   0., -100.,    0.,   -1.],\n",
              "       [   0.,    0.,    0.,    0.]])"
            ]
          },
          "metadata": {},
          "execution_count": 44
        }
      ]
    },
    {
      "cell_type": "code",
      "source": [
        "#Hàm tìm kiếm vị trí có thể đi tại một ô khi biết tọa độ x,y của ô đó\n",
        "def find_move(x,y, shape_v):\n",
        "  up = (x-1, y)\n",
        "  down = (x+1, y)\n",
        "  left = (x, y-1)\n",
        "  right = (x, y+1)\n",
        "\n",
        "  list_move = [up, down, left, right]\n",
        "\n",
        "  true_list_move = []\n",
        "  for move in list_move:\n",
        "    for stt,i in enumerate(move):\n",
        "      if i < 0:\n",
        "        break\n",
        "      elif i >= shape_v[stt]:\n",
        "        break\n",
        "      if stt:\n",
        "        true_list_move.append(move)\n",
        "  return true_list_move"
      ],
      "metadata": {
        "id": "_YiYkPNkoNnZ"
      },
      "execution_count": 45,
      "outputs": []
    },
    {
      "cell_type": "code",
      "source": [
        "#Tìm kiếm vị trí có thể đi tại mỗi ô\n",
        "is_locks = [(1,1)]\n",
        "results = []\n",
        "for x in range(len(V)):\n",
        "  for y in range(len(V[0])):\n",
        "    list_move = find_move(x, y, V.shape)\n",
        "    for move in list_move:\n",
        "        if move == is_locks[0]:\n",
        "            list_move.remove(move)\n",
        "    dict_move = {\"cell\": (x , y), \"moves\": list_move}\n",
        "    results.append(dict_move)\n",
        "for x in range(len(V)):\n",
        "  for y in range(len(V[0])):\n",
        "    list_move = find_move(x, y, V.shape)\n",
        "    for move in list_move:\n",
        "        if move == is_locks[0]:\n",
        "            list_move.remove(move)\n",
        "    dict_move = {\"cell\": (x , y), \"moves\": list_move}\n",
        "    results.append(dict_move)"
      ],
      "metadata": {
        "id": "I3nw3qvooYgX"
      },
      "execution_count": 46,
      "outputs": []
    },
    {
      "cell_type": "code",
      "source": [
        "results"
      ],
      "metadata": {
        "colab": {
          "base_uri": "https://localhost:8080/"
        },
        "id": "g2He__daoxCy",
        "outputId": "f79b219a-cbe9-4923-88e1-f3eb31928596"
      },
      "execution_count": 47,
      "outputs": [
        {
          "output_type": "execute_result",
          "data": {
            "text/plain": [
              "[{'cell': (0, 0), 'moves': [(1, 0), (0, 1)]},\n",
              " {'cell': (0, 1), 'moves': [(0, 0), (0, 2)]},\n",
              " {'cell': (0, 2), 'moves': [(1, 2), (0, 1), (0, 3)]},\n",
              " {'cell': (0, 3), 'moves': [(1, 3), (0, 2)]},\n",
              " {'cell': (1, 0), 'moves': [(0, 0), (2, 0)]},\n",
              " {'cell': (1, 1), 'moves': [(0, 1), (2, 1), (1, 0), (1, 2)]},\n",
              " {'cell': (1, 2), 'moves': [(0, 2), (2, 2), (1, 3)]},\n",
              " {'cell': (1, 3), 'moves': [(0, 3), (2, 3), (1, 2)]},\n",
              " {'cell': (2, 0), 'moves': [(1, 0), (2, 1)]},\n",
              " {'cell': (2, 1), 'moves': [(2, 0), (2, 2)]},\n",
              " {'cell': (2, 2), 'moves': [(1, 2), (2, 1), (2, 3)]},\n",
              " {'cell': (2, 3), 'moves': [(1, 3), (2, 2)]},\n",
              " {'cell': (0, 0), 'moves': [(1, 0), (0, 1)]},\n",
              " {'cell': (0, 1), 'moves': [(0, 0), (0, 2)]},\n",
              " {'cell': (0, 2), 'moves': [(1, 2), (0, 1), (0, 3)]},\n",
              " {'cell': (0, 3), 'moves': [(1, 3), (0, 2)]},\n",
              " {'cell': (1, 0), 'moves': [(0, 0), (2, 0)]},\n",
              " {'cell': (1, 1), 'moves': [(0, 1), (2, 1), (1, 0), (1, 2)]},\n",
              " {'cell': (1, 2), 'moves': [(0, 2), (2, 2), (1, 3)]},\n",
              " {'cell': (1, 3), 'moves': [(0, 3), (2, 3), (1, 2)]},\n",
              " {'cell': (2, 0), 'moves': [(1, 0), (2, 1)]},\n",
              " {'cell': (2, 1), 'moves': [(2, 0), (2, 2)]},\n",
              " {'cell': (2, 2), 'moves': [(1, 2), (2, 1), (2, 3)]},\n",
              " {'cell': (2, 3), 'moves': [(1, 3), (2, 2)]}]"
            ]
          },
          "metadata": {},
          "execution_count": 47
        }
      ]
    },
    {
      "cell_type": "code",
      "source": [
        "# Số lần cập nhật\n",
        "num_updates = 5\n",
        "\n",
        "# Vị trí của các ô không cần cập nhật\n",
        "exclude_positions = [(2, 0), (0, 3), (1, 3), (1, 1)]\n",
        "\n",
        "# Hàm cập nhật value của ô khi biết tọa độ x, y\n",
        "def update(x, y, dict_move: dict):\n",
        "    for move in dict_move:\n",
        "        if move[\"cell\"] == (x , y):\n",
        "            move_list = move[\"moves\"]\n",
        "            break\n",
        "    value_range = []\n",
        "    for marked in move_list:\n",
        "        total_value = 0\n",
        "        for j in move_list:\n",
        "            if j == marked:\n",
        "                total_value += 0.8 * (0.0 + gamma * V[j[0], j[1]])\n",
        "            else:\n",
        "                total_value += 0.2 / (len(move_list) - 1) * (0.0 + gamma * V[j[0], j[1]])\n",
        "        value_range.append(total_value)\n",
        "    return np.around(max(value_range), decimals=2)  # Làm tròn kết quả đến 2 chữ số thập phân\n",
        "\n",
        "# Lặp lại quá trình cập nhật nhiều lần\n",
        "for _ in range(num_updates):\n",
        "    # Tạo một bản sao của ma trận V để cập nhật giá trị\n",
        "    new_V = np.copy(V)\n",
        "    # Duyệt qua từng ô trong ma trận V và cập nhật giá trị\n",
        "    for x in range(len(V)):\n",
        "        for y in range(len(V[0])):\n",
        "            # Kiểm tra xem ô hiện tại có nằm trong danh sách các ô không cần cập nhật hay không\n",
        "            if (x, y) not in exclude_positions:\n",
        "                # Cập nhật giá trị cho ô hiện tại\n",
        "                new_V[x, y] = update(x, y, results)\n",
        "    # Sau khi cập nhật xong một lượt, gán ma trận mới vào ma trận V để tiếp tục cập nhật\n",
        "    V = new_V"
      ],
      "metadata": {
        "id": "EYioGHzS85LP"
      },
      "execution_count": 48,
      "outputs": []
    },
    {
      "cell_type": "code",
      "source": [
        "# Duyệt qua từng phần tử của ma trận V và hiển thị giá trị\n",
        "for row in V:\n",
        "    for value in row:\n",
        "        if abs(value) < 1e-10:  # Kiểm tra nếu giá trị gần bằng 0 thì hiển thị 0\n",
        "            print(\"{:8.2f}\".format(0), end=\" \")  # Định dạng số với 2 chữ số sau dấu phẩy\n",
        "        else:\n",
        "            print(\"{:8.2f}\".format(value), end=\" \")  # Định dạng số với 2 chữ số sau dấu phẩy\n",
        "    print()  # In xuống dòng sau khi hoàn thành mỗi hàng"
      ],
      "metadata": {
        "colab": {
          "base_uri": "https://localhost:8080/"
        },
        "id": "M1r-kTTX9TPt",
        "outputId": "74fb7d0f-2998-4618-947a-0df78728155c"
      },
      "execution_count": 49,
      "outputs": [
        {
          "output_type": "stream",
          "name": "stdout",
          "text": [
            "    0.52     0.64     0.83     1.00 \n",
            "    0.27  -100.00     0.51    -1.00 \n",
            "    0.00     0.21     0.40     0.03 \n"
          ]
        }
      ]
    }
  ]
}