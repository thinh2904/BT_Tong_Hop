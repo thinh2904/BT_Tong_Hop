{
  "nbformat": 4,
  "nbformat_minor": 0,
  "metadata": {
    "colab": {
      "provenance": [],
      "include_colab_link": true
    },
    "kernelspec": {
      "name": "python3",
      "display_name": "Python 3"
    },
    "language_info": {
      "name": "python"
    }
  },
  "cells": [
    {
      "cell_type": "markdown",
      "metadata": {
        "id": "view-in-github",
        "colab_type": "text"
      },
      "source": [
        "<a href=\"https://colab.research.google.com/github/thinh2904/BT_Tong_Hop/blob/main/day5_RL.ipynb\" target=\"_parent\"><img src=\"https://colab.research.google.com/assets/colab-badge.svg\" alt=\"Open In Colab\"/></a>"
      ]
    },
    {
      "cell_type": "code",
      "execution_count": 23,
      "metadata": {
        "id": "A3bztnWlI2KN"
      },
      "outputs": [],
      "source": [
        "import numpy as np"
      ]
    },
    {
      "cell_type": "code",
      "source": [
        "V = np.zeros((3,4))"
      ],
      "metadata": {
        "id": "lJHImUn5J_FL"
      },
      "execution_count": 24,
      "outputs": []
    },
    {
      "cell_type": "code",
      "source": [
        "V[1,3]=-1\n",
        "V[0,3] = 1\n",
        "V[1,1] = -100\n",
        "gamma = 0.9"
      ],
      "metadata": {
        "id": "_lJngav-KOJa"
      },
      "execution_count": 25,
      "outputs": []
    },
    {
      "cell_type": "code",
      "source": [
        "V"
      ],
      "metadata": {
        "id": "KhqJzcaJKPIa",
        "colab": {
          "base_uri": "https://localhost:8080/"
        },
        "outputId": "987ab0e3-9c8a-4452-f552-7354f4b39098"
      },
      "execution_count": 26,
      "outputs": [
        {
          "output_type": "execute_result",
          "data": {
            "text/plain": [
              "array([[   0.,    0.,    0.,    1.],\n",
              "       [   0., -100.,    0.,   -1.],\n",
              "       [   0.,    0.,    0.,    0.]])"
            ]
          },
          "metadata": {},
          "execution_count": 26
        }
      ]
    },
    {
      "cell_type": "code",
      "source": [
        "V[0,2] = max( 0.8*(0.0 + gamma*V[0,3] ) + 0.1*(0 + gamma*V[0,1]) + 0.1*(0 + gamma*V[1,2]),\n",
        "              0.1*(0.0 + gamma*V[0,3] ) + 0.8*(0 + gamma*V[0,1]) + 0.1*(0 + gamma*V[1,2]),\n",
        "              0.1*(0.0 + gamma*V[0,3] ) + 0.1*(0 + gamma*V[0,1]) + 0.8*(0 + gamma*V[1,2]))"
      ],
      "metadata": {
        "id": "7dfBDKXLKbFq"
      },
      "execution_count": null,
      "outputs": []
    },
    {
      "cell_type": "code",
      "source": [
        "V"
      ],
      "metadata": {
        "colab": {
          "base_uri": "https://localhost:8080/"
        },
        "id": "BuivZiyiOb_I",
        "outputId": "2593aaf5-6fc2-4519-b5f1-8508b1f6a514"
      },
      "execution_count": null,
      "outputs": [
        {
          "output_type": "execute_result",
          "data": {
            "text/plain": [
              "array([[   0.  ,    0.  ,    0.72,    1.  ],\n",
              "       [   0.  , -100.  ,    0.  ,   -1.  ],\n",
              "       [   0.  ,    0.  ,    0.  ,    0.  ]])"
            ]
          },
          "metadata": {},
          "execution_count": 34
        }
      ]
    },
    {
      "cell_type": "code",
      "source": [
        "V[1,2] = max( 0.8*(0.0 + gamma*V[0,2] ) + 0.1*(0 + gamma*V[2,2]) + 0.1*(0 + gamma*V[1,3]),\n",
        "              0.1*(0.0 + gamma*V[0,2] ) + 0.8*(0 + gamma*V[2,2]) + 0.1*(0 + gamma*V[1,3]),\n",
        "              0.1*(0.0 + gamma*V[0,2] ) + 0.1*(0 + gamma*V[2,2]) + 0.8*(0 + gamma*V[1,3]))"
      ],
      "metadata": {
        "id": "2mD0qefePE2H"
      },
      "execution_count": null,
      "outputs": []
    },
    {
      "cell_type": "code",
      "source": [
        "V"
      ],
      "metadata": {
        "colab": {
          "base_uri": "https://localhost:8080/"
        },
        "id": "8vqGn_GnPz6W",
        "outputId": "1c3ef623-18ae-4ae1-9b87-fcbc44a7917d"
      },
      "execution_count": null,
      "outputs": [
        {
          "output_type": "execute_result",
          "data": {
            "text/plain": [
              "array([[   0.    ,    0.    ,    0.72  ,    1.    ],\n",
              "       [   0.    , -100.    ,    0.4284,   -1.    ],\n",
              "       [   0.    ,    0.    ,    0.    ,    0.    ]])"
            ]
          },
          "metadata": {},
          "execution_count": 38
        }
      ]
    },
    {
      "cell_type": "code",
      "source": [
        "V[0,1] = max( 0.8*(0.0 + gamma*V[0,2] ) + 0.2*(0 + gamma*V[0,0]),\n",
        "              0.2*(0.0 + gamma*V[0,2] ) + 0.8*(0 + gamma*V[0,0]))"
      ],
      "metadata": {
        "id": "mFNtxKMZP0vG"
      },
      "execution_count": null,
      "outputs": []
    },
    {
      "cell_type": "code",
      "source": [
        "V"
      ],
      "metadata": {
        "colab": {
          "base_uri": "https://localhost:8080/"
        },
        "id": "9egD-fujQIKG",
        "outputId": "980f8f91-5f2a-4aeb-db47-bf27f84084f9"
      },
      "execution_count": null,
      "outputs": [
        {
          "output_type": "execute_result",
          "data": {
            "text/plain": [
              "array([[   0.    ,    0.5184,    0.72  ,    1.    ],\n",
              "       [   0.    , -100.    ,    0.4284,   -1.    ],\n",
              "       [   0.    ,    0.    ,    0.    ,    0.    ]])"
            ]
          },
          "metadata": {},
          "execution_count": 40
        }
      ]
    },
    {
      "cell_type": "code",
      "source": [
        "V[0,2] = max( 0.8*(0.0 + gamma*V[0,3] ) + 0.1*(0 + gamma*V[0,1]) + 0.1*(0 + gamma*V[1,2]),\n",
        "              0.1*(0.0 + gamma*V[0,3] ) + 0.8*(0 + gamma*V[0,1]) + 0.1*(0 + gamma*V[1,2]),\n",
        "              0.1*(0.0 + gamma*V[0,3] ) + 0.1*(0 + gamma*V[0,1]) + 0.8*(0 + gamma*V[1,2]))"
      ],
      "metadata": {
        "id": "KA87VXACQIq2"
      },
      "execution_count": null,
      "outputs": []
    },
    {
      "cell_type": "code",
      "source": [
        "V[1,2] = max( 0.8*(0.0 + gamma*V[0,2] ) + 0.1*(0 + gamma*V[2,2]) + 0.1*(0 + gamma*V[1,3]),\n",
        "              0.1*(0.0 + gamma*V[0,2] ) + 0.8*(0 + gamma*V[2,2]) + 0.1*(0 + gamma*V[1,3]),\n",
        "              0.1*(0.0 + gamma*V[0,2] ) + 0.1*(0 + gamma*V[2,2]) + 0.8*(0 + gamma*V[1,3]))"
      ],
      "metadata": {
        "id": "vMnvTRdiQOp4"
      },
      "execution_count": null,
      "outputs": []
    },
    {
      "cell_type": "code",
      "source": [
        "V[0,1] = max( 0.8*(0.0 + gamma*V[0,2] ) + 0.2*(0 + gamma*V[0,0]),\n",
        "              0.2*(0.0 + gamma*V[0,2] ) + 0.8*(0 + gamma*V[0,0]))"
      ],
      "metadata": {
        "id": "XvPGFsiPQMM2"
      },
      "execution_count": null,
      "outputs": []
    },
    {
      "cell_type": "code",
      "source": [
        "V"
      ],
      "metadata": {
        "colab": {
          "base_uri": "https://localhost:8080/"
        },
        "id": "GWitSZZHQRN2",
        "outputId": "1c554a2d-0411-447a-aff3-91f50a17fbdc"
      },
      "execution_count": null,
      "outputs": [
        {
          "output_type": "execute_result",
          "data": {
            "text/plain": [
              "array([[   0.        ,    0.57975264,    0.805212  ,    1.        ],\n",
              "       [   0.        , -100.        ,    0.48975264,   -1.        ],\n",
              "       [   0.        ,    0.        ,    0.        ,    0.        ]])"
            ]
          },
          "metadata": {},
          "execution_count": 44
        }
      ]
    },
    {
      "cell_type": "code",
      "source": [
        "def find_move(x,y, shape_v):\n",
        "  up = (x-1, y)\n",
        "  down = (x+1, y)\n",
        "  left = (x, y-1)\n",
        "  right = (x, y+1)\n",
        "\n",
        "  list_move = [up, down, left, right]\n",
        "\n",
        "  true_list_move = []\n",
        "  for move in list_move:\n",
        "    for stt,i in enumerate(move):\n",
        "      if i < 0:\n",
        "        break\n",
        "      elif i >= shape_v[stt]:\n",
        "        break\n",
        "      if stt:\n",
        "        true_list_move.append(move)\n",
        "  return true_list_move"
      ],
      "metadata": {
        "id": "_YiYkPNkoNnZ"
      },
      "execution_count": 27,
      "outputs": []
    },
    {
      "cell_type": "code",
      "source": [
        "is_locks = [(1,1)]\n",
        "results = []\n",
        "for x in range(len(V)):\n",
        "  for y in range(len(V[0])):\n",
        "    list_move = find_move(x, y, (3, 4))\n",
        "    for move in list_move:\n",
        "        if move == is_locks[0]:\n",
        "            list_move.remove(move)\n",
        "    dict_move = {\"cell\": (x , y), \"moves\": list_move}\n",
        "    results.append(dict_move)\n",
        "for x in range(len(V)):\n",
        "  for y in range(len(V[0])):\n",
        "    list_move = find_move(x, y, V.shape)\n",
        "    for move in list_move:\n",
        "        if move == is_locks[0]:\n",
        "            list_move.remove(move)\n",
        "    dict_move = {\"cell\": (x , y), \"moves\": list_move}\n",
        "    results.append(dict_move)"
      ],
      "metadata": {
        "id": "I3nw3qvooYgX"
      },
      "execution_count": 28,
      "outputs": []
    },
    {
      "cell_type": "code",
      "source": [
        "results"
      ],
      "metadata": {
        "colab": {
          "base_uri": "https://localhost:8080/"
        },
        "id": "g2He__daoxCy",
        "outputId": "120206eb-27e3-4fc5-b151-114674c677f7"
      },
      "execution_count": 29,
      "outputs": [
        {
          "output_type": "execute_result",
          "data": {
            "text/plain": [
              "[{'cell': (0, 0), 'moves': [(1, 0), (0, 1)]},\n",
              " {'cell': (0, 1), 'moves': [(0, 0), (0, 2)]},\n",
              " {'cell': (0, 2), 'moves': [(1, 2), (0, 1), (0, 3)]},\n",
              " {'cell': (0, 3), 'moves': [(1, 3), (0, 2)]},\n",
              " {'cell': (1, 0), 'moves': [(0, 0), (2, 0)]},\n",
              " {'cell': (1, 1), 'moves': [(0, 1), (2, 1), (1, 0), (1, 2)]},\n",
              " {'cell': (1, 2), 'moves': [(0, 2), (2, 2), (1, 3)]},\n",
              " {'cell': (1, 3), 'moves': [(0, 3), (2, 3), (1, 2)]},\n",
              " {'cell': (2, 0), 'moves': [(1, 0), (2, 1)]},\n",
              " {'cell': (2, 1), 'moves': [(2, 0), (2, 2)]},\n",
              " {'cell': (2, 2), 'moves': [(1, 2), (2, 1), (2, 3)]},\n",
              " {'cell': (2, 3), 'moves': [(1, 3), (2, 2)]},\n",
              " {'cell': (0, 0), 'moves': [(1, 0), (0, 1)]},\n",
              " {'cell': (0, 1), 'moves': [(0, 0), (0, 2)]},\n",
              " {'cell': (0, 2), 'moves': [(1, 2), (0, 1), (0, 3)]},\n",
              " {'cell': (0, 3), 'moves': [(1, 3), (0, 2)]},\n",
              " {'cell': (1, 0), 'moves': [(0, 0), (2, 0)]},\n",
              " {'cell': (1, 1), 'moves': [(0, 1), (2, 1), (1, 0), (1, 2)]},\n",
              " {'cell': (1, 2), 'moves': [(0, 2), (2, 2), (1, 3)]},\n",
              " {'cell': (1, 3), 'moves': [(0, 3), (2, 3), (1, 2)]},\n",
              " {'cell': (2, 0), 'moves': [(1, 0), (2, 1)]},\n",
              " {'cell': (2, 1), 'moves': [(2, 0), (2, 2)]},\n",
              " {'cell': (2, 2), 'moves': [(1, 2), (2, 1), (2, 3)]},\n",
              " {'cell': (2, 3), 'moves': [(1, 3), (2, 2)]}]"
            ]
          },
          "metadata": {},
          "execution_count": 29
        }
      ]
    },
    {
      "cell_type": "code",
      "source": [
        "value_range = []\n",
        "move_list = results[14][\"moves\"]\n",
        "for i in range(len(move_list)):\n",
        "    marked = move_list[i]\n",
        "    sum = 0\n",
        "    for j in move_list:\n",
        "        if j == marked:\n",
        "            sum += 0.8 * (0.0+gamma*V[marked])\n",
        "        else:\n",
        "            sum += 0.2/(len(move_list)-1)*(0.0+gamma*V[j])\n",
        "    value_range.append(sum)"
      ],
      "metadata": {
        "id": "g72DsTM9obPW"
      },
      "execution_count": 38,
      "outputs": []
    },
    {
      "cell_type": "code",
      "source": [
        "max(value_range)"
      ],
      "metadata": {
        "colab": {
          "base_uri": "https://localhost:8080/"
        },
        "id": "6xOVLJhgo0Tr",
        "outputId": "d022e99a-d42d-47ac-d054-e08eba89b568"
      },
      "execution_count": 32,
      "outputs": [
        {
          "output_type": "execute_result",
          "data": {
            "text/plain": [
              "0.7200000000000001"
            ]
          },
          "metadata": {},
          "execution_count": 32
        }
      ]
    },
    {
      "cell_type": "code",
      "source": [
        "V[0,2] = max(value_range)"
      ],
      "metadata": {
        "id": "3O8hcEXYqbjF"
      },
      "execution_count": 39,
      "outputs": []
    },
    {
      "cell_type": "code",
      "source": [
        "value_range = []\n",
        "move_list = results[-6][\"moves\"]\n",
        "for i in range(len(move_list)):\n",
        "    marked = move_list[i]\n",
        "    sum = 0\n",
        "    for j in move_list:\n",
        "        if j == marked:\n",
        "            sum += 0.8 * (0.0+gamma*V[marked])\n",
        "        else:\n",
        "            sum += 0.2/(len(move_list)-1)*(0.0+gamma*V[j])\n",
        "    value_range.append(sum)"
      ],
      "metadata": {
        "id": "lmKMwunzqD5-"
      },
      "execution_count": 40,
      "outputs": []
    },
    {
      "cell_type": "code",
      "source": [
        "max(value_range)"
      ],
      "metadata": {
        "colab": {
          "base_uri": "https://localhost:8080/"
        },
        "id": "Fi3IwBYJqR1a",
        "outputId": "2f73df34-3572-4592-a7dc-f6a3c621ee74"
      },
      "execution_count": 41,
      "outputs": [
        {
          "output_type": "execute_result",
          "data": {
            "text/plain": [
              "0.42840000000000006"
            ]
          },
          "metadata": {},
          "execution_count": 41
        }
      ]
    }
  ]
}