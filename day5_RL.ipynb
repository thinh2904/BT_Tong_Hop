{
  "nbformat": 4,
  "nbformat_minor": 0,
  "metadata": {
    "colab": {
      "provenance": [],
      "include_colab_link": true
    },
    "kernelspec": {
      "name": "python3",
      "display_name": "Python 3"
    },
    "language_info": {
      "name": "python"
    }
  },
  "cells": [
    {
      "cell_type": "markdown",
      "metadata": {
        "id": "view-in-github",
        "colab_type": "text"
      },
      "source": [
        "<a href=\"https://colab.research.google.com/github/thinh2904/BT_Tong_Hop/blob/main/day5_RL.ipynb\" target=\"_parent\"><img src=\"https://colab.research.google.com/assets/colab-badge.svg\" alt=\"Open In Colab\"/></a>"
      ]
    },
    {
      "cell_type": "code",
      "execution_count": null,
      "metadata": {
        "id": "A3bztnWlI2KN"
      },
      "outputs": [],
      "source": [
        "import numpy as np"
      ]
    },
    {
      "cell_type": "code",
      "source": [
        "# Ví dụ: Lấy tất cả các phần tử từ mảng 2 chiều arr\n",
        "arr = [[1, 2, 3], [4, 5, 6], [7, 8, 9]]\n",
        "flattened_arr = [item for sublist in arr for item in sublist]\n",
        "print(flattened_arr)"
      ],
      "metadata": {
        "colab": {
          "base_uri": "https://localhost:8080/"
        },
        "id": "SGMSl2egiQg4",
        "outputId": "958f2dd5-6fd8-4dcf-f855-4c0022d92323"
      },
      "execution_count": 21,
      "outputs": [
        {
          "output_type": "stream",
          "name": "stdout",
          "text": [
            "[1, 2, 3, 4, 5, 6, 7, 8, 9]\n"
          ]
        }
      ]
    },
    {
      "cell_type": "code",
      "source": [
        "V = np.zeros((3,4))"
      ],
      "metadata": {
        "id": "lJHImUn5J_FL"
      },
      "execution_count": null,
      "outputs": []
    },
    {
      "cell_type": "code",
      "source": [
        "V[1,3]=-1\n",
        "V[0,3] = 1\n",
        "V[1,1] = -100\n",
        "gamma = 0.9"
      ],
      "metadata": {
        "id": "_lJngav-KOJa"
      },
      "execution_count": null,
      "outputs": []
    },
    {
      "cell_type": "code",
      "source": [
        "V"
      ],
      "metadata": {
        "id": "KhqJzcaJKPIa",
        "colab": {
          "base_uri": "https://localhost:8080/"
        },
        "outputId": "aa1b8664-b584-4e44-80a2-6f78e9d14e28"
      },
      "execution_count": null,
      "outputs": [
        {
          "output_type": "execute_result",
          "data": {
            "text/plain": [
              "array([[   0.,    0.,    0.,    1.],\n",
              "       [   0., -100.,    0.,   -1.],\n",
              "       [   0.,    0.,    0.,    0.]])"
            ]
          },
          "metadata": {},
          "execution_count": 4
        }
      ]
    },
    {
      "cell_type": "code",
      "source": [
        "V[0,2] = max( 0.8*(0.0 + gamma*V[0,3] ) + 0.1*(0 + gamma*V[0,1]) + 0.1*(0 + gamma*V[1,2]),\n",
        "              0.1*(0.0 + gamma*V[0,3] ) + 0.8*(0 + gamma*V[0,1]) + 0.1*(0 + gamma*V[1,2]),\n",
        "              0.1*(0.0 + gamma*V[0,3] ) + 0.1*(0 + gamma*V[0,1]) + 0.8*(0 + gamma*V[1,2]))"
      ],
      "metadata": {
        "id": "7dfBDKXLKbFq"
      },
      "execution_count": null,
      "outputs": []
    },
    {
      "cell_type": "code",
      "source": [
        "V"
      ],
      "metadata": {
        "colab": {
          "base_uri": "https://localhost:8080/"
        },
        "id": "BuivZiyiOb_I",
        "outputId": "2593aaf5-6fc2-4519-b5f1-8508b1f6a514"
      },
      "execution_count": null,
      "outputs": [
        {
          "output_type": "execute_result",
          "data": {
            "text/plain": [
              "array([[   0.  ,    0.  ,    0.72,    1.  ],\n",
              "       [   0.  , -100.  ,    0.  ,   -1.  ],\n",
              "       [   0.  ,    0.  ,    0.  ,    0.  ]])"
            ]
          },
          "metadata": {},
          "execution_count": 34
        }
      ]
    },
    {
      "cell_type": "code",
      "source": [
        "V[1,2] = max( 0.8*(0.0 + gamma*V[0,2] ) + 0.1*(0 + gamma*V[2,2]) + 0.1*(0 + gamma*V[1,3]),\n",
        "              0.1*(0.0 + gamma*V[0,2] ) + 0.8*(0 + gamma*V[2,2]) + 0.1*(0 + gamma*V[1,3]),\n",
        "              0.1*(0.0 + gamma*V[0,2] ) + 0.1*(0 + gamma*V[2,2]) + 0.8*(0 + gamma*V[1,3]))"
      ],
      "metadata": {
        "id": "2mD0qefePE2H"
      },
      "execution_count": null,
      "outputs": []
    },
    {
      "cell_type": "code",
      "source": [
        "V"
      ],
      "metadata": {
        "colab": {
          "base_uri": "https://localhost:8080/"
        },
        "id": "8vqGn_GnPz6W",
        "outputId": "1c3ef623-18ae-4ae1-9b87-fcbc44a7917d"
      },
      "execution_count": null,
      "outputs": [
        {
          "output_type": "execute_result",
          "data": {
            "text/plain": [
              "array([[   0.    ,    0.    ,    0.72  ,    1.    ],\n",
              "       [   0.    , -100.    ,    0.4284,   -1.    ],\n",
              "       [   0.    ,    0.    ,    0.    ,    0.    ]])"
            ]
          },
          "metadata": {},
          "execution_count": 38
        }
      ]
    },
    {
      "cell_type": "code",
      "source": [
        "V[0,1] = max( 0.8*(0.0 + gamma*V[0,2] ) + 0.2*(0 + gamma*V[0,0]),\n",
        "              0.2*(0.0 + gamma*V[0,2] ) + 0.8*(0 + gamma*V[0,0]))"
      ],
      "metadata": {
        "id": "mFNtxKMZP0vG"
      },
      "execution_count": null,
      "outputs": []
    },
    {
      "cell_type": "code",
      "source": [
        "V"
      ],
      "metadata": {
        "colab": {
          "base_uri": "https://localhost:8080/"
        },
        "id": "9egD-fujQIKG",
        "outputId": "980f8f91-5f2a-4aeb-db47-bf27f84084f9"
      },
      "execution_count": null,
      "outputs": [
        {
          "output_type": "execute_result",
          "data": {
            "text/plain": [
              "array([[   0.    ,    0.5184,    0.72  ,    1.    ],\n",
              "       [   0.    , -100.    ,    0.4284,   -1.    ],\n",
              "       [   0.    ,    0.    ,    0.    ,    0.    ]])"
            ]
          },
          "metadata": {},
          "execution_count": 40
        }
      ]
    },
    {
      "cell_type": "code",
      "source": [
        "V[0,2] = max( 0.8*(0.0 + gamma*V[0,3] ) + 0.1*(0 + gamma*V[0,1]) + 0.1*(0 + gamma*V[1,2]),\n",
        "              0.1*(0.0 + gamma*V[0,3] ) + 0.8*(0 + gamma*V[0,1]) + 0.1*(0 + gamma*V[1,2]),\n",
        "              0.1*(0.0 + gamma*V[0,3] ) + 0.1*(0 + gamma*V[0,1]) + 0.8*(0 + gamma*V[1,2]))"
      ],
      "metadata": {
        "id": "KA87VXACQIq2"
      },
      "execution_count": null,
      "outputs": []
    },
    {
      "cell_type": "code",
      "source": [
        "V[1,2] = max( 0.8*(0.0 + gamma*V[0,2] ) + 0.1*(0 + gamma*V[2,2]) + 0.1*(0 + gamma*V[1,3]),\n",
        "              0.1*(0.0 + gamma*V[0,2] ) + 0.8*(0 + gamma*V[2,2]) + 0.1*(0 + gamma*V[1,3]),\n",
        "              0.1*(0.0 + gamma*V[0,2] ) + 0.1*(0 + gamma*V[2,2]) + 0.8*(0 + gamma*V[1,3]))"
      ],
      "metadata": {
        "id": "vMnvTRdiQOp4"
      },
      "execution_count": null,
      "outputs": []
    },
    {
      "cell_type": "code",
      "source": [
        "V[0,1] = max( 0.8*(0.0 + gamma*V[0,2] ) + 0.2*(0 + gamma*V[0,0]),\n",
        "              0.2*(0.0 + gamma*V[0,2] ) + 0.8*(0 + gamma*V[0,0]))"
      ],
      "metadata": {
        "id": "XvPGFsiPQMM2"
      },
      "execution_count": null,
      "outputs": []
    },
    {
      "cell_type": "code",
      "source": [
        "V"
      ],
      "metadata": {
        "colab": {
          "base_uri": "https://localhost:8080/"
        },
        "id": "GWitSZZHQRN2",
        "outputId": "1c554a2d-0411-447a-aff3-91f50a17fbdc"
      },
      "execution_count": null,
      "outputs": [
        {
          "output_type": "execute_result",
          "data": {
            "text/plain": [
              "array([[   0.        ,    0.57975264,    0.805212  ,    1.        ],\n",
              "       [   0.        , -100.        ,    0.48975264,   -1.        ],\n",
              "       [   0.        ,    0.        ,    0.        ,    0.        ]])"
            ]
          },
          "metadata": {},
          "execution_count": 44
        }
      ]
    },
    {
      "cell_type": "code",
      "source": [],
      "metadata": {
        "id": "GgSOIth_QR6G"
      },
      "execution_count": null,
      "outputs": []
    }
  ]
}