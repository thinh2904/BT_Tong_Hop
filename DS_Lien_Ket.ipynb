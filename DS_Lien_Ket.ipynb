{
  "nbformat": 4,
  "nbformat_minor": 0,
  "metadata": {
    "colab": {
      "name": "DS_Lien_Ket.ipynb",
      "provenance": []
    },
    "kernelspec": {
      "name": "python3",
      "display_name": "Python 3"
    },
    "language_info": {
      "name": "python"
    }
  },
  "cells": [
    {
      "cell_type": "code",
      "metadata": {
        "colab": {
          "base_uri": "https://localhost:8080/"
        },
        "id": "DVCGNpqL0usq",
        "outputId": "1c18274e-d5c3-4c4a-defd-1843103a601b"
      },
      "source": [
        "def nhapDaThuc(n):\n",
        "  dathuc = []\n",
        "  for i in reversed(range((n+1))):\n",
        "    a = int(input(f\"nhap he so bac {i}:  \"))\n",
        "    dathuc.append(a)\n",
        "  return dathuc\n",
        "\n",
        "\n",
        "def bieuDienDaThuc(dathuc):\n",
        "  chuoi = \"\"\n",
        "  for (stt,i) in enumerate(reversed(dathuc)):\n",
        "    if stt == 0:\n",
        "      chuoi = str(i) + chuoi\n",
        "    else:\n",
        "      chuoi = f'{i}x^{stt} + {chuoi}'\n",
        "  print(chuoi)\n",
        "\n",
        "\n",
        "def congDaThuc(dathuc_1, dathuc_2):\n",
        "  dathuctong = []\n",
        "  chenlecbac = abs(len(dathuc_1) - len(dathuc_2))\n",
        "  if len(dathuc_1) > len(dathuc_2):\n",
        "    dathuc_2 = chenlecbac * [0] + dathuc_2\n",
        "  else:\n",
        "    if len(dathuc_2) > len(dathuc_1):\n",
        "      dathuc_1 = chenlecbac * [0] + dathuc_1\n",
        "  for stt in range(len(dathuc_1)):\n",
        "    dathuctong.append(dathuc_1[stt]+dathuc_2[stt])\n",
        "  bieuDienDaThuc(dathuctong)\n",
        "  return dathuctong\n",
        "\n",
        "n = int(input('Bac cao nhat cua A'))\n",
        "m = int(input('Bac cao nhat cua B'))\n",
        "A = nhapDaThuc(n)\n",
        "B = nhapDaThuc(m)\n",
        "\n",
        "\n",
        "bieuDienDaThuc(A)\n",
        "bieuDienDaThuc(B)\n",
        "\n",
        "\n",
        "congDaThuc(A, B)\n"
      ],
      "execution_count": 4,
      "outputs": [
        {
          "output_type": "stream",
          "text": [
            "Bac cao nhat cua A4\n",
            "Bac cao nhat cua B5\n",
            "nhap he so bac 4:  5\n",
            "nhap he so bac 3:  7\n",
            "nhap he so bac 2:  -8\n",
            "nhap he so bac 1:  4\n",
            "nhap he so bac 0:  6\n",
            "nhap he so bac 5:  2\n",
            "nhap he so bac 4:  -2\n",
            "nhap he so bac 3:  0\n",
            "nhap he so bac 2:  6\n",
            "nhap he so bac 1:  -7\n",
            "nhap he so bac 0:  5\n",
            "5x^4 + 7x^3 + -8x^2 + 4x^1 + 6\n",
            "2x^5 + -2x^4 + 0x^3 + 6x^2 + -7x^1 + 5\n",
            "2x^5 + 3x^4 + 7x^3 + -2x^2 + -3x^1 + 11\n"
          ],
          "name": "stdout"
        },
        {
          "output_type": "execute_result",
          "data": {
            "text/plain": [
              "[2, 3, 7, -2, -3, 11]"
            ]
          },
          "metadata": {
            "tags": []
          },
          "execution_count": 4
        }
      ]
    }
  ]
}