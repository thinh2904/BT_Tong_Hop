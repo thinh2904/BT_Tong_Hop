{
  "nbformat": 4,
  "nbformat_minor": 0,
  "metadata": {
    "colab": {
      "provenance": [],
      "include_colab_link": true
    },
    "kernelspec": {
      "name": "python3",
      "display_name": "Python 3"
    },
    "language_info": {
      "name": "python"
    }
  },
  "cells": [
    {
      "cell_type": "markdown",
      "metadata": {
        "id": "view-in-github",
        "colab_type": "text"
      },
      "source": [
        "<a href=\"https://colab.research.google.com/github/thinh2904/BT_Tong_Hop/blob/main/thuc_hanh_25_04.ipynb\" target=\"_parent\"><img src=\"https://colab.research.google.com/assets/colab-badge.svg\" alt=\"Open In Colab\"/></a>"
      ]
    },
    {
      "cell_type": "code",
      "execution_count": 1,
      "metadata": {
        "id": "MZ4tmMrTQuVM"
      },
      "outputs": [],
      "source": [
        "import numpy as np\n",
        "import matplotlib.pyplot as plt\n",
        "import random\n",
        "import time\n",
        "import os\n",
        "\n",
        "actions = {\n",
        "    \"F\":(0,  1),\n",
        "    \"B\":(0 , -1),\n",
        "    \"L\": (-1 , 0),\n",
        "    \"R\": (1 ,  0)\n",
        "}\n",
        "acts = [(0,1), (0,-1), (1, 0), (-1,0) ]"
      ]
    },
    {
      "cell_type": "code",
      "source": [
        "class Game:\n",
        "  def __init__(self, num_rows = 3, num_cols = 4, wall = (1,1), jerry = (0,3), spike = (1,3)):\n",
        "    self.num_rows = num_rows\n",
        "    self.num_cols = num_cols\n",
        "    self.grid = np.zeros((num_rows, num_cols))\n",
        "    self.grid[wall[0],wall[1]] = -100.0\n",
        "    self.grid[jerry[0], jerry[1]] = 1.0\n",
        "    self.grid[spike[0], spike[1]] = -1.0\n",
        "    self.Tom = [0,0]\n",
        "  def observation(self):\n",
        "    return self.grid\n",
        "\n",
        "  def get_cur_state(self):\n",
        "    return self.Tom\n",
        "\n",
        "\n",
        "\n",
        "  def render(self):\n",
        "    for i in range(self.num_rows+1):\n",
        "       plt.plot([0, self.num_cols], [i, i], color=\"black\")\n",
        "\n",
        "    for j in range(self.num_cols+1):\n",
        "       plt.plot([j, j], [0, self.num_rows], color=\"black\")\n",
        "    plt.plot(self.Tom[0]+0.5,self.Tom[1]+0.5, marker=\"*\", markersize = 35, color=\"blue\")\n",
        "    plt.plot(3.5,2.5, marker=\"P\", markersize = 30, color=\"green\")\n",
        "    plt.plot(3.5,1.5, marker=\"H\", markersize = 30, color=\"red\")\n",
        "    plt.plot(1.5,1.5, marker=\"X\", markersize = 30, color=\"red\")\n",
        "\n",
        "\n",
        "  def get_rd_action(self,num_actions):\n",
        "    return np.random.choice(num_actions)\n",
        "\n",
        "  def get_action_by_q(self, Q_table, _state):\n",
        "    return np.max(Q_table.where(Q_table[_state,:]))\n",
        "\n",
        "\n",
        "  def move(self, _action):\n",
        "    def check_action(_action):\n",
        "      rs = False\n",
        "      if self.Tom[0] + _action[0] >= self.num_rows or self.Tom[0] + _action[0] < 0:\n",
        "        rs = True\n",
        "      if self.Tom[1] + _action[1] >= self.num_cols or self.Tom[1] + _action[1] < 0:\n",
        "        rs = True\n",
        "      return rs\n",
        "    old_state = self.Tom\n",
        "    next_state = None\n",
        "    reward = 0.0\n",
        "    done = True\n",
        "    if check_action(_action):\n",
        "      done = True\n",
        "      reward = -1.0\n",
        "    else:\n",
        "      self.Tom[0] = self.Tom[0] + _action[0]\n",
        "      self.Tom[1] = self.Tom[1] + _action[1]\n",
        "      next_state = self.Tom\n",
        "      if self.Tom[0] == 3 and self.Tom[1] == 2:\n",
        "        reward = 1.0\n",
        "        done = True\n",
        "      elif self.Tom[0] == 3 and self.Tom[1] == 1:\n",
        "        reward = -1.0\n",
        "        done= True\n",
        "      else:\n",
        "        reward = 0.0\n",
        "        done =False\n",
        "    return old_state, _action, reward, next_state, done\n",
        "\n",
        "  def reset(self):\n",
        "    self.Tom[0] = 0.0\n",
        "    self.Tom[1] = 0.0\n",
        "\n"
      ],
      "metadata": {
        "id": "JfmpAky9Q0h8"
      },
      "execution_count": 4,
      "outputs": []
    },
    {
      "cell_type": "code",
      "source": [
        "num_rows = 3\n",
        "num_cols = 4\n",
        "stas = []\n",
        "for i in range(num_rows):\n",
        "  for j in range(num_cols):\n",
        "    stas.append([i,j])"
      ],
      "metadata": {
        "id": "0cptJT84EGsA"
      },
      "execution_count": 5,
      "outputs": []
    },
    {
      "cell_type": "code",
      "source": [
        "done = False\n",
        "Q = np.zeros((len(stas), len(acts)))\n",
        "G = Game()\n",
        "G.reset()\n",
        "num_games = 10000\n"
      ],
      "metadata": {
        "id": "HwiFN2U6hvq-"
      },
      "execution_count": 6,
      "outputs": []
    },
    {
      "cell_type": "code",
      "source": [
        "for t in range(num_games):\n",
        "  done = False\n",
        "  G.reset()\n",
        "  while not done:\n",
        "    action = G.get_rd_action(4)\n",
        "    _state, action, reward, state_, done = G.move(acts[action])\n",
        "    # print(_state, acts.index(action), reward, state_, done)\n",
        "    discount = 0.0\n",
        "    if state_ is not None:\n",
        "      discount = 0.9*np.max(Q[stas.index(state_), :])\n",
        "    else:\n",
        "      discount = 0.0\n",
        "\n",
        "    Q[stas.index(_state), action] = reward + discount"
      ],
      "metadata": {
        "id": "uQlMGC8pE9D3"
      },
      "execution_count": 16,
      "outputs": []
    },
    {
      "cell_type": "code",
      "source": [
        "print(stas)\n",
        "Q"
      ],
      "metadata": {
        "colab": {
          "base_uri": "https://localhost:8080/"
        },
        "id": "pa3rj1nwFt_n",
        "outputId": "f2255e1d-e718-4ccc-a937-408489d40250"
      },
      "execution_count": 17,
      "outputs": [
        {
          "output_type": "stream",
          "name": "stdout",
          "text": [
            "[[0, 0], [0, 1], [0, 2], [0, 3], [1, 0], [1, 1], [1, 2], [1, 3], [2, 0], [2, 1], [2, 2], [2, 3]]\n"
          ]
        },
        {
          "output_type": "execute_result",
          "data": {
            "text/plain": [
              "array([[-1.,  0.,  0., -1.],\n",
              "       [ 0.,  0.,  0.,  0.],\n",
              "       [-1.,  0.,  0., -1.],\n",
              "       [ 0.,  0.,  0., -1.],\n",
              "       [ 0.,  0.,  0.,  0.],\n",
              "       [ 0.,  0.,  0.,  0.],\n",
              "       [ 0.,  0.,  0.,  0.],\n",
              "       [ 0.,  0.,  0.,  0.],\n",
              "       [-1., -1.,  0.,  0.],\n",
              "       [-1., -1.,  0.,  0.],\n",
              "       [ 0.,  0.,  0.,  0.],\n",
              "       [ 0.,  0.,  0.,  0.]])"
            ]
          },
          "metadata": {},
          "execution_count": 17
        }
      ]
    },
    {
      "cell_type": "code",
      "source": [],
      "metadata": {
        "id": "ZcRtOMdQJhFT"
      },
      "execution_count": null,
      "outputs": []
    }
  ]
}