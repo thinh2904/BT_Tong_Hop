{
  "nbformat": 4,
  "nbformat_minor": 0,
  "metadata": {
    "colab": {
      "provenance": [],
      "include_colab_link": true
    },
    "kernelspec": {
      "name": "python3",
      "display_name": "Python 3"
    },
    "language_info": {
      "name": "python"
    }
  },
  "cells": [
    {
      "cell_type": "markdown",
      "metadata": {
        "id": "view-in-github",
        "colab_type": "text"
      },
      "source": [
        "<a href=\"https://colab.research.google.com/github/thinh2904/BT_Tong_Hop/blob/main/day6_RL.ipynb\" target=\"_parent\"><img src=\"https://colab.research.google.com/assets/colab-badge.svg\" alt=\"Open In Colab\"/></a>"
      ]
    },
    {
      "cell_type": "code",
      "execution_count": 25,
      "metadata": {
        "id": "A3bztnWlI2KN"
      },
      "outputs": [],
      "source": [
        "import numpy as np"
      ]
    },
    {
      "cell_type": "code",
      "source": [
        "V = np.zeros((6,12))"
      ],
      "metadata": {
        "id": "lJHImUn5J_FL"
      },
      "execution_count": 26,
      "outputs": []
    },
    {
      "cell_type": "code",
      "source": [
        "V[1,11]=-1\n",
        "V[0,11] = 1\n",
        "listlock = [(0,4),(0,8),(1,4),(1,6),(1,8),(2,1),(2,2),(2,4),(2,6),(2,8),(3,1),(3,6),(3,8),(4,1),(4,2),(4,3),(4,4),(4,5),(4,6),(4,8),(4,9),(5,4)]\n",
        "for lock in listlock:\n",
        "  V[lock] = -100\n",
        "gamma = 0.9"
      ],
      "metadata": {
        "id": "_lJngav-KOJa"
      },
      "execution_count": 27,
      "outputs": []
    },
    {
      "cell_type": "code",
      "source": [
        "V"
      ],
      "metadata": {
        "id": "KhqJzcaJKPIa",
        "colab": {
          "base_uri": "https://localhost:8080/"
        },
        "outputId": "acb64089-43d6-46a0-fe77-219825d17c71"
      },
      "execution_count": 28,
      "outputs": [
        {
          "output_type": "execute_result",
          "data": {
            "text/plain": [
              "array([[   0.,    0.,    0.,    0., -100.,    0.,    0.,    0., -100.,\n",
              "           0.,    0.,    1.],\n",
              "       [   0.,    0.,    0.,    0., -100.,    0., -100.,    0., -100.,\n",
              "           0.,    0.,   -1.],\n",
              "       [   0., -100., -100.,    0., -100.,    0., -100.,    0., -100.,\n",
              "           0.,    0.,    0.],\n",
              "       [   0., -100.,    0.,    0.,    0.,    0., -100.,    0., -100.,\n",
              "           0.,    0.,    0.],\n",
              "       [   0., -100., -100., -100., -100., -100., -100.,    0., -100.,\n",
              "        -100.,    0.,    0.],\n",
              "       [   0.,    0.,    0.,    0., -100.,    0.,    0.,    0.,    0.,\n",
              "           0.,    0.,    0.]])"
            ]
          },
          "metadata": {},
          "execution_count": 28
        }
      ]
    },
    {
      "cell_type": "code",
      "source": [
        "#Hàm tìm kiếm vị trí có thể đi tại một ô khi biết tọa độ x,y của ô đó\n",
        "def find_move(x,y, shape_v):\n",
        "  up = (x-1, y)\n",
        "  down = (x+1, y)\n",
        "  left = (x, y-1)\n",
        "  right = (x, y+1)\n",
        "\n",
        "  list_move = [up, down, left, right]\n",
        "\n",
        "  true_list_move = []\n",
        "  for move in list_move:\n",
        "    for stt,i in enumerate(move):\n",
        "      if i < 0:\n",
        "        break\n",
        "      elif i >= shape_v[stt]:\n",
        "        break\n",
        "      if stt:\n",
        "        true_list_move.append(move)\n",
        "  for l in listlock:\n",
        "    if l in true_list_move:\n",
        "      true_list_move.remove(l)\n",
        "  return true_list_move"
      ],
      "metadata": {
        "id": "_YiYkPNkoNnZ"
      },
      "execution_count": 29,
      "outputs": []
    },
    {
      "cell_type": "code",
      "source": [
        "def allMoves(V):\n",
        "  results = []\n",
        "  for i in range(V.shape[0]):\n",
        "    for j in range(V.shape[1]):\n",
        "      obj = {(i, j): find_move(i, j, V.shape)}\n",
        "      results.append(obj)\n",
        "\n",
        "  return results;"
      ],
      "metadata": {
        "id": "I3nw3qvooYgX"
      },
      "execution_count": 30,
      "outputs": []
    },
    {
      "cell_type": "code",
      "source": [
        "allMoves(V)"
      ],
      "metadata": {
        "colab": {
          "base_uri": "https://localhost:8080/"
        },
        "id": "g2He__daoxCy",
        "outputId": "504193cc-dbb0-46dc-f966-bdd3055e8365"
      },
      "execution_count": 31,
      "outputs": [
        {
          "output_type": "execute_result",
          "data": {
            "text/plain": [
              "[{(0, 0): [(1, 0), (0, 1)]},\n",
              " {(0, 1): [(1, 1), (0, 0), (0, 2)]},\n",
              " {(0, 2): [(1, 2), (0, 1), (0, 3)]},\n",
              " {(0, 3): [(1, 3), (0, 2)]},\n",
              " {(0, 4): [(0, 3), (0, 5)]},\n",
              " {(0, 5): [(1, 5), (0, 6)]},\n",
              " {(0, 6): [(0, 5), (0, 7)]},\n",
              " {(0, 7): [(1, 7), (0, 6)]},\n",
              " {(0, 8): [(0, 7), (0, 9)]},\n",
              " {(0, 9): [(1, 9), (0, 10)]},\n",
              " {(0, 10): [(1, 10), (0, 9), (0, 11)]},\n",
              " {(0, 11): [(1, 11), (0, 10)]},\n",
              " {(1, 0): [(0, 0), (2, 0), (1, 1)]},\n",
              " {(1, 1): [(0, 1), (1, 0), (1, 2)]},\n",
              " {(1, 2): [(0, 2), (1, 1), (1, 3)]},\n",
              " {(1, 3): [(0, 3), (2, 3), (1, 2)]},\n",
              " {(1, 4): [(1, 3), (1, 5)]},\n",
              " {(1, 5): [(0, 5), (2, 5)]},\n",
              " {(1, 6): [(0, 6), (1, 5), (1, 7)]},\n",
              " {(1, 7): [(0, 7), (2, 7)]},\n",
              " {(1, 8): [(1, 7), (1, 9)]},\n",
              " {(1, 9): [(0, 9), (2, 9), (1, 10)]},\n",
              " {(1, 10): [(0, 10), (2, 10), (1, 9), (1, 11)]},\n",
              " {(1, 11): [(0, 11), (2, 11), (1, 10)]},\n",
              " {(2, 0): [(1, 0), (3, 0)]},\n",
              " {(2, 1): [(1, 1), (2, 0)]},\n",
              " {(2, 2): [(1, 2), (3, 2), (2, 3)]},\n",
              " {(2, 3): [(1, 3), (3, 3)]},\n",
              " {(2, 4): [(3, 4), (2, 3), (2, 5)]},\n",
              " {(2, 5): [(1, 5), (3, 5)]},\n",
              " {(2, 6): [(2, 5), (2, 7)]},\n",
              " {(2, 7): [(1, 7), (3, 7)]},\n",
              " {(2, 8): [(2, 7), (2, 9)]},\n",
              " {(2, 9): [(1, 9), (3, 9), (2, 10)]},\n",
              " {(2, 10): [(1, 10), (3, 10), (2, 9), (2, 11)]},\n",
              " {(2, 11): [(1, 11), (3, 11), (2, 10)]},\n",
              " {(3, 0): [(2, 0), (4, 0)]},\n",
              " {(3, 1): [(3, 0), (3, 2)]},\n",
              " {(3, 2): [(3, 3)]},\n",
              " {(3, 3): [(2, 3), (3, 2), (3, 4)]},\n",
              " {(3, 4): [(3, 3), (3, 5)]},\n",
              " {(3, 5): [(2, 5), (3, 4)]},\n",
              " {(3, 6): [(3, 5), (3, 7)]},\n",
              " {(3, 7): [(2, 7), (4, 7)]},\n",
              " {(3, 8): [(3, 7), (3, 9)]},\n",
              " {(3, 9): [(2, 9), (3, 10)]},\n",
              " {(3, 10): [(2, 10), (4, 10), (3, 9), (3, 11)]},\n",
              " {(3, 11): [(2, 11), (4, 11), (3, 10)]},\n",
              " {(4, 0): [(3, 0), (5, 0)]},\n",
              " {(4, 1): [(5, 1), (4, 0)]},\n",
              " {(4, 2): [(3, 2), (5, 2)]},\n",
              " {(4, 3): [(3, 3), (5, 3)]},\n",
              " {(4, 4): [(3, 4)]},\n",
              " {(4, 5): [(3, 5), (5, 5)]},\n",
              " {(4, 6): [(5, 6), (4, 7)]},\n",
              " {(4, 7): [(3, 7), (5, 7)]},\n",
              " {(4, 8): [(5, 8), (4, 7)]},\n",
              " {(4, 9): [(3, 9), (5, 9), (4, 10)]},\n",
              " {(4, 10): [(3, 10), (5, 10), (4, 11)]},\n",
              " {(4, 11): [(3, 11), (5, 11), (4, 10)]},\n",
              " {(5, 0): [(4, 0), (5, 1)]},\n",
              " {(5, 1): [(5, 0), (5, 2)]},\n",
              " {(5, 2): [(5, 1), (5, 3)]},\n",
              " {(5, 3): [(5, 2)]},\n",
              " {(5, 4): [(5, 3), (5, 5)]},\n",
              " {(5, 5): [(5, 6)]},\n",
              " {(5, 6): [(5, 5), (5, 7)]},\n",
              " {(5, 7): [(4, 7), (5, 6), (5, 8)]},\n",
              " {(5, 8): [(5, 7), (5, 9)]},\n",
              " {(5, 9): [(5, 8), (5, 10)]},\n",
              " {(5, 10): [(4, 10), (5, 9), (5, 11)]},\n",
              " {(5, 11): [(4, 11), (5, 10)]}]"
            ]
          },
          "metadata": {},
          "execution_count": 31
        }
      ]
    },
    {
      "cell_type": "code",
      "source": [
        "def addValue(value):\n",
        "    allVal = []\n",
        "\n",
        "    for val in value:\n",
        "        allVal.append(val)\n",
        "\n",
        "    return allVal"
      ],
      "metadata": {
        "id": "EYioGHzS85LP"
      },
      "execution_count": 32,
      "outputs": []
    },
    {
      "cell_type": "code",
      "source": [
        "def updateValue(value, gamma, V):\n",
        "    listValue = addValue(value)\n",
        "    maxValue = 0\n",
        "\n",
        "    if len(value) > 1:\n",
        "        sumVal = len(value) - 1\n",
        "    else:\n",
        "        sumVal = len(value)\n",
        "\n",
        "    result = []\n",
        "\n",
        "    for i in range(len(listValue)):\n",
        "        sum = 0\n",
        "        x_i, y_i = listValue[i]\n",
        "\n",
        "        for j in range(len(listValue)):\n",
        "            x_j, y_j = listValue[j]\n",
        "            if j == i:\n",
        "                sum += 0.8 * gamma * V[x_i][y_i]\n",
        "            else:\n",
        "                sum += (0.2 / sumVal) * gamma * V[x_j][y_j]\n",
        "        result.append(sum)\n",
        "\n",
        "    maxValue = max(result)\n",
        "\n",
        "    return maxValue"
      ],
      "metadata": {
        "id": "Nwfj1xHwI0OB"
      },
      "execution_count": 33,
      "outputs": []
    },
    {
      "cell_type": "code",
      "source": [
        "listMove = allMoves(V)\n",
        "for __ in range(10000):\n",
        "  for i in listMove:\n",
        "    for _ in i:\n",
        "      if(_ == (0,11) or _ == (1,11) or _ in listlock):\n",
        "         continue\n",
        "      value = i[_]\n",
        "      V[_] = updateValue(value, gamma, V)"
      ],
      "metadata": {
        "id": "ApWekiPlI798"
      },
      "execution_count": 34,
      "outputs": []
    },
    {
      "cell_type": "code",
      "source": [
        "V"
      ],
      "metadata": {
        "colab": {
          "base_uri": "https://localhost:8080/"
        },
        "id": "FZmWSvB5JYAU",
        "outputId": "33ec1dfa-061d-49ef-a112-66bcc00b3102"
      },
      "execution_count": 35,
      "outputs": [
        {
          "output_type": "execute_result",
          "data": {
            "text/plain": [
              "array([[ 1.19342868e-02,  1.33962423e-02,  1.52617383e-02,\n",
              "         1.73576089e-02, -1.00000000e+02,  6.42579267e-02,\n",
              "         7.55913511e-02,  8.89235059e-02, -1.00000000e+02,\n",
              "         7.15844080e-01,  8.39574365e-01,  1.00000000e+00],\n",
              "       [ 1.27166241e-02,  1.48189432e-02,  1.73177573e-02,\n",
              "         2.02923555e-02, -1.00000000e+02,  5.46230773e-02,\n",
              "        -1.00000000e+02,  1.04607032e-01, -1.00000000e+02,\n",
              "         6.18614096e-01,  6.12759976e-01, -1.00000000e+00],\n",
              "       [ 1.08099911e-02, -1.00000000e+02, -1.00000000e+02,\n",
              "         2.38494063e-02, -1.00000000e+02,  4.64298340e-02,\n",
              "        -1.00000000e+02,  1.23056667e-01, -1.00000000e+02,\n",
              "         5.33977339e-01,  5.19159796e-01,  3.18092359e-01],\n",
              "       [ 9.18900953e-03, -1.00000000e+02,  2.01967823e-02,\n",
              "         2.80510865e-02,  3.34540689e-02,  3.94512129e-02,\n",
              "        -1.00000000e+02,  1.44760280e-01, -1.00000000e+02,\n",
              "         4.65008976e-01,  4.47473846e-01,  3.81081177e-01],\n",
              "       [ 7.81008856e-03, -1.00000000e+02, -1.00000000e+02,\n",
              "        -1.00000000e+02, -1.00000000e+02, -1.00000000e+02,\n",
              "        -1.00000000e+02,  1.70291778e-01, -1.00000000e+02,\n",
              "        -1.00000000e+02,  3.81889737e-01,  3.36352174e-01],\n",
              "       [ 6.63334279e-03,  5.61155011e-03,  4.64190726e-03,\n",
              "         3.34217323e-03, -1.00000000e+02,  1.19311980e-01,\n",
              "         1.65711084e-01,  2.00326288e-01,  2.36230598e-01,\n",
              "         2.78016481e-01,  3.27076351e-01,  3.01047309e-01]])"
            ]
          },
          "metadata": {},
          "execution_count": 35
        }
      ]
    },
    {
      "cell_type": "code",
      "source": [
        "# Duyệt qua từng phần tử của ma trận V và hiển thị giá trị\n",
        "for row in V:\n",
        "    for value in row:\n",
        "        if abs(value) < 1e-10:  # Kiểm tra nếu giá trị gần bằng 0 thì hiển thị 0\n",
        "            print(\"{:8.3f}\".format(0), end=\" \")  # Định dạng số với 3 chữ số sau dấu phẩy\n",
        "        else:\n",
        "            print(\"{:8.3f}\".format(value), end=\" \")  # Định dạng số với 3 chữ số sau dấu phẩy\n",
        "    print()  # In xuống dòng sau khi hoàn thành mỗi hàng"
      ],
      "metadata": {
        "colab": {
          "base_uri": "https://localhost:8080/"
        },
        "id": "M1r-kTTX9TPt",
        "outputId": "6ede78cf-1853-4610-95a0-9af52c91fb92"
      },
      "execution_count": 38,
      "outputs": [
        {
          "output_type": "stream",
          "name": "stdout",
          "text": [
            "   0.012    0.013    0.015    0.017 -100.000    0.064    0.076    0.089 -100.000    0.716    0.840    1.000 \n",
            "   0.013    0.015    0.017    0.020 -100.000    0.055 -100.000    0.105 -100.000    0.619    0.613   -1.000 \n",
            "   0.011 -100.000 -100.000    0.024 -100.000    0.046 -100.000    0.123 -100.000    0.534    0.519    0.318 \n",
            "   0.009 -100.000    0.020    0.028    0.033    0.039 -100.000    0.145 -100.000    0.465    0.447    0.381 \n",
            "   0.008 -100.000 -100.000 -100.000 -100.000 -100.000 -100.000    0.170 -100.000 -100.000    0.382    0.336 \n",
            "   0.007    0.006    0.005    0.003 -100.000    0.119    0.166    0.200    0.236    0.278    0.327    0.301 \n"
          ]
        }
      ]
    }
  ]
}